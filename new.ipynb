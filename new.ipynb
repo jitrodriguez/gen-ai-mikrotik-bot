{
 "cells": [
  {
   "cell_type": "code",
   "execution_count": 32,
   "metadata": {},
   "outputs": [],
   "source": [
    "from langchain_ollama import ChatOllama\n",
    "import re\n",
    "\n",
    "llm = ChatOllama(\n",
    "    model=\"llama3.2\",\n",
    "    temperature=0\n",
    ")\n",
    "def remove_think_tags(text):\n",
    "    \"\"\"\n",
    "    Elimina todas las ocurrencias de las etiquetas <think> y su contenido de la cadena proporcionada.\n",
    "    \n",
    "    Args:\n",
    "    text (str): La cadena de texto de la cual se eliminarán las etiquetas <think>.\n",
    "    \n",
    "    Returns:\n",
    "    str: La cadena de texto sin las etiquetas <think> y su contenido.\n",
    "    \"\"\"\n",
    "    cleaned_text = re.sub(r'<think>.*?</think>', '', text, flags=re.DOTALL)\n",
    "    return cleaned_text.strip()"
   ]
  },
  {
   "cell_type": "code",
   "execution_count": 33,
   "metadata": {},
   "outputs": [],
   "source": [
    "response = llm.invoke(\"Que sabes de lit element\")"
   ]
  },
  {
   "cell_type": "code",
   "execution_count": 34,
   "metadata": {},
   "outputs": [
    {
     "data": {
      "text/plain": [
       "'El litio (Li) es un elemento químico con el número atómico 3 y la masa atómica 6,94 u. Es un metal alcalino y se encuentra en la tabla periódica de los elementos como el primer elemento de la primera columna.\\n\\n**Propiedades físicas**\\n\\n* El litio es un metal blando y ductil.\\n* Tiene una temperatura de fusión de 180,54 °C y una temperatura de ebullición de 1342 °C.\\n* Es un buen conductor eléctrico y térmico.\\n\\n**Propiedades químicas**\\n\\n* El litio es altamente reactivo con el agua, lo que lo convierte en un ácido fuerte.\\n* Reacciona con el oxígeno para formar peróxido de litio (Li2O2).\\n* Es un buen conductor de iones y se utiliza comúnmente en baterías.\\n\\n**Usos**\\n\\n* El litio es utilizado en la producción de baterías, especialmente en baterías de iones de litio (Li-ion), que son ampliamente utilizadas en dispositivos electrónicos como teléfonos móviles y laptops.\\n* También se utiliza en la producción de aluminio y otros metales ligeros.\\n* En la industria farmacéutica, el litio se utiliza como ingrediente en algunos medicamentos para tratar la depresión y la ansiedad.\\n\\n**Ventajas y desventajas**\\n\\n* Ventajas:\\n + El litio es un buen conductor de iones y se utiliza comúnmente en baterías.\\n + Es un metal blando y ductil, lo que lo hace fácil de trabajar.\\n* Desventajas:\\n + El litio es altamente reactivo con el agua y puede ser peligroso manejarlo.\\n + La producción de litio puede tener impactos ambientales negativos.\\n\\n**Aplicaciones en la vida cotidiana**\\n\\n* Los dispositivos electrónicos como teléfonos móviles, laptops y tabletas utilizan baterías de iones de litio (Li-ion).\\n* El litio se utiliza en algunos medicamentos para tratar la depresión y la ansiedad.\\n* En la industria automotriz, el litio se utiliza en la producción de aluminio y otros metales ligeros.\\n\\nEn resumen, el litio es un elemento químico con propiedades interesantes y aplicaciones en diversas industrias. Su capacidad para conductir iones lo hace ideal para la producción de baterías y otros productos electrónicos.'"
      ]
     },
     "execution_count": 34,
     "metadata": {},
     "output_type": "execute_result"
    }
   ],
   "source": [
    "remove_think_tags(response.content)"
   ]
  },
  {
   "cell_type": "code",
   "execution_count": 35,
   "metadata": {},
   "outputs": [],
   "source": [
    "from typing import Literal, TypedDict\n",
    "from pydantic import BaseModel, Field\n",
    "\n",
    "agents = [\"main_agent\", \"test_agent\",\"other\"]\n",
    "options = agents + [\"FINISH\"]\n",
    "system_prompt = (\n",
    "    \"You are a supervisor tasked with managing a conversation between the\"\n",
    "    f\" following workers: {agents},\"\"\"\n",
    "    \" main_agent: is for routers and telecommunications and all about mikrotik brand\"\n",
    "    \" test_agent for questions related to unit tests\"\n",
    "    \" other for other topics or if you don know the topic or what is the question about\"\n",
    "    \" respond with the worker to act next. Each worker will perform a\"\n",
    "    \" task and respond with their results and status.\"\n",
    "    \"Always set your think that you followed to get the correct response\"\n",
    ")\n",
    "\n",
    "class Router(TypedDict):\n",
    "    \"\"\"Worker to route to next\"\"\"\n",
    "    next: Literal[\"main_agent\",\"test_agent\",\"other\"]\n",
    "    think: str = Field(description=\"All thoughts to be shared with the next worker\")\n",
    "\n",
    "llm_structured = llm.with_structured_output(Router)"
   ]
  },
  {
   "cell_type": "code",
   "execution_count": 42,
   "metadata": {},
   "outputs": [],
   "source": [
    "messages = [\n",
    "        {\"role\": \"system\", \"content\": system_prompt},\n",
    "        {\"role\": \"user\", \"content\": \"Que sabes de litElement el framework de webcomponents?\"},\n",
    "    ]\n",
    "response = llm.with_structured_output(Router,method='json_schema').invoke(messages)"
   ]
  },
  {
   "cell_type": "code",
   "execution_count": 43,
   "metadata": {},
   "outputs": [
    {
     "data": {
      "text/plain": [
       "{'next': 'other',\n",
       " 'think': \"I don't know much about litElement, can you tell me more about it?\"}"
      ]
     },
     "execution_count": 43,
     "metadata": {},
     "output_type": "execute_result"
    }
   ],
   "source": [
    "response"
   ]
  },
  {
   "cell_type": "code",
   "execution_count": null,
   "metadata": {},
   "outputs": [],
   "source": [
    "def router_node(state:State)->Command[Lite]"
   ]
  }
 ],
 "metadata": {
  "kernelspec": {
   "display_name": ".venv",
   "language": "python",
   "name": "python3"
  },
  "language_info": {
   "codemirror_mode": {
    "name": "ipython",
    "version": 3
   },
   "file_extension": ".py",
   "mimetype": "text/x-python",
   "name": "python",
   "nbconvert_exporter": "python",
   "pygments_lexer": "ipython3",
   "version": "3.12.3"
  }
 },
 "nbformat": 4,
 "nbformat_minor": 2
}
