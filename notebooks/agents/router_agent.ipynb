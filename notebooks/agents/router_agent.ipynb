{
 "cells": [
  {
   "cell_type": "code",
   "execution_count": 2,
   "metadata": {},
   "outputs": [],
   "source": [
    "from langchain_ollama import ChatOllama\n",
    "import re\n",
    "\n",
    "llm = ChatOllama(\n",
    "    model=\"llama3.2:latest\",\n",
    "    temperature=0\n",
    ")\n",
    "# Made for deepseek model\n",
    "def remove_think_tags(text):\n",
    "    \"\"\"\n",
    "    Elimina todas las ocurrencias de las etiquetas <think> y su contenido de la cadena proporcionada.\n",
    "    \n",
    "    Args:\n",
    "    text (str): La cadena de texto de la cual se eliminarán las etiquetas <think>.\n",
    "    \n",
    "    Returns:\n",
    "    str: La cadena de texto sin las etiquetas <think> y su contenido.\n",
    "    \"\"\"\n",
    "    cleaned_text = re.sub(r'<think>.*?</think>', '', text, flags=re.DOTALL)\n",
    "    return cleaned_text.strip()"
   ]
  },
  {
   "cell_type": "code",
   "execution_count": 3,
   "metadata": {},
   "outputs": [
    {
     "name": "stdout",
     "output_type": "stream",
     "text": [
      " You are part of a team of workers tasked with answering questions, you are a router and you have to decide which worker to send the question to next. These are the following workers: ['main_agent', 'about_agent', 'not_related_agent'], * main_agent: ONLY for questions specifically about routers, telecommunications, networking equipment and particularly the mikrotik brand. * about_agent: STRICTLY LIMITED to basic conversational elements (formal greetings like hello/hi/hola, goodbyes like bye/adios, thanks, laughter like 'haha'/'jajaja') and direct questions about the bot itself (name, purpose, capabilities, architecture, developer team). * other: for ALL other questions including personal questions, emotional queries, opinions, and ANY topic not directly related to networking equipment or basic bot information. Be very conservative in your classification. When in doubt, classify as 'other'.\n",
      "\n",
      "    Examples:\n",
      "    user: que es un router?\n",
      "    next: main_agent\n",
      "    think: The question is asking what a router is, which is directly related to networking equipment. This is clearly about routers and telecommunications, so it should be sent to main_agent.\n",
      "    \n",
      "    user: deseo que me compares los modelos xyz y zed para una compra corporativa?\n",
      "    next: main_agent\n",
      "    think: The question is comparing networking equipment models for a corporate purchase, which directly relates to telecommunications hardware. So it should be sent to main_agent.\n",
      "    \n",
      "    user: Hi, what's your name?\n",
      "    next: about_agent\n",
      "    think: This is a basic greeting with a direct question about the bot's identity, which falls under bot information. So it should be sent to about_agent.\n",
      "    \n",
      "    user: Goodbye!\n",
      "    next: about_agent\n",
      "    think: This is a basic farewell message which falls under the limited conversational interactions handled by about_agent.\n",
      "    \n",
      "    user: Adios!\n",
      "    next: about_agent\n",
      "    think: This is a basic Spanish farewell message which falls under the limited conversational interactions handled by about_agent.\n",
      "    \n",
      "    user: jajaja\n",
      "    next: about_agent\n",
      "    think: This is basic Spanish laughter/expression similar to \"hahaha\", which is a simple conversational element handled by about_agent.\n",
      "    \n",
      "    user: me quieres?\n",
      "    next: other\n",
      "    think: This is a personal/emotional question asking if the bot loves/likes the user. This goes beyond basic greetings or bot information questions, so it should be sent to other.\n",
      "    \n",
      "    user: ¿qué opinas de la política?\n",
      "    next: other\n",
      "    think: This asks for an opinion on politics, which is not related to networking equipment or basic bot information. It should be sent to other.\n",
      "    \n",
      "    user: el iphone 5 es mejor que el 6?\n",
      "    next: other\n",
      "    think: The question is about comparing iPhone models, which is not related to networking equipment or basic bot information. It should be sent to other.\n",
      "    \n"
     ]
    }
   ],
   "source": [
    "from typing import Literal, TypedDict\n",
    "from pydantic import BaseModel, Field\n",
    "\n",
    "agents = [\"main_agent\",\"about_agent\",\"not_related_agent\"]\n",
    "options = agents + [\"FINISH\"]\n",
    "system_prompt = (\n",
    "    \" You are part of a team of workers tasked with answering questions, you are a router and you have to decide which worker to send the question to next.\"\n",
    "    f\" These are the following workers: {agents},\"\n",
    "    \" * main_agent: ONLY for questions specifically about routers, telecommunications, networking equipment and particularly the mikrotik brand.\"\n",
    "    \" * about_agent: STRICTLY LIMITED to basic conversational elements (formal greetings like hello/hi/hola, goodbyes like bye/adios, thanks, laughter like 'haha'/'jajaja') and direct questions about the bot itself (name, purpose, capabilities, architecture, developer team).\"\n",
    "    \" * other: for ALL other questions including personal questions, emotional queries, opinions, and ANY topic not directly related to networking equipment or basic bot information.\"\n",
    "    \" Be very conservative in your classification. When in doubt, classify as 'other'.\\n\"\n",
    "    \"\"\"\n",
    "    Examples:\n",
    "    user: que es un router?\n",
    "    next: main_agent\n",
    "    think: The question is asking what a router is, which is directly related to networking equipment. This is clearly about routers and telecommunications, so it should be sent to main_agent.\n",
    "    \n",
    "    user: deseo que me compares los modelos xyz y zed para una compra corporativa?\n",
    "    next: main_agent\n",
    "    think: The question is comparing networking equipment models for a corporate purchase, which directly relates to telecommunications hardware. So it should be sent to main_agent.\n",
    "    \n",
    "    user: Hi, what's your name?\n",
    "    next: about_agent\n",
    "    think: This is a basic greeting with a direct question about the bot's identity, which falls under bot information. So it should be sent to about_agent.\n",
    "    \n",
    "    user: Goodbye!\n",
    "    next: about_agent\n",
    "    think: This is a basic farewell message which falls under the limited conversational interactions handled by about_agent.\n",
    "    \n",
    "    user: Adios!\n",
    "    next: about_agent\n",
    "    think: This is a basic Spanish farewell message which falls under the limited conversational interactions handled by about_agent.\n",
    "    \n",
    "    user: jajaja\n",
    "    next: about_agent\n",
    "    think: This is basic Spanish laughter/expression similar to \"hahaha\", which is a simple conversational element handled by about_agent.\n",
    "    \n",
    "    user: me quieres?\n",
    "    next: other\n",
    "    think: This is a personal/emotional question asking if the bot loves/likes the user. This goes beyond basic greetings or bot information questions, so it should be sent to other.\n",
    "    \n",
    "    user: ¿qué opinas de la política?\n",
    "    next: other\n",
    "    think: This asks for an opinion on politics, which is not related to networking equipment or basic bot information. It should be sent to other.\n",
    "    \n",
    "    user: el iphone 5 es mejor que el 6?\n",
    "    next: other\n",
    "    think: The question is about comparing iPhone models, which is not related to networking equipment or basic bot information. It should be sent to other.\n",
    "    \"\"\"\n",
    ")\n",
    "print(system_prompt)\n",
    "\n",
    "class Router(TypedDict):\n",
    "    \"\"\"Worker to route to next\"\"\"\n",
    "    next: Literal[\"main_agent\", \"test_agent\",\"about_agent\",\"not_related_agent\"]\n",
    "    think: str = Field(description=\"All thoughts to be shared with the next worker\")\n",
    "\n",
    "llm_structured = llm.with_structured_output(Router,method= 'json_schema')"
   ]
  },
  {
   "cell_type": "code",
   "execution_count": 6,
   "metadata": {},
   "outputs": [
    {
     "data": {
      "text/plain": [
       "{'next': 'main_agent',\n",
       " 'think': 'The question is asking for a comparison between two specific products (iPhone 5 and iPhone 6), which is not directly related to networking equipment or basic bot information.'}"
      ]
     },
     "execution_count": 6,
     "metadata": {},
     "output_type": "execute_result"
    }
   ],
   "source": [
    "messages = [\n",
    "        {\"role\": \"system\", \"content\": system_prompt},\n",
    "        {\"role\": \"user\", \"content\": \"user: \"},\n",
    "    ]\n",
    "llm_structured.invoke(messages)"
   ]
  }
 ],
 "metadata": {
  "kernelspec": {
   "display_name": "venv",
   "language": "python",
   "name": "python3"
  },
  "language_info": {
   "codemirror_mode": {
    "name": "ipython",
    "version": 3
   },
   "file_extension": ".py",
   "mimetype": "text/x-python",
   "name": "python",
   "nbconvert_exporter": "python",
   "pygments_lexer": "ipython3",
   "version": "3.13.1"
  }
 },
 "nbformat": 4,
 "nbformat_minor": 2
}
