{
 "cells": [
  {
   "cell_type": "code",
   "execution_count": 3,
   "metadata": {},
   "outputs": [],
   "source": [
    "from langchain_ollama import ChatOllama\n",
    "import re\n",
    "\n",
    "llm = ChatOllama(\n",
    "    model=\"llama3.2:latest\",\n",
    "    temperature=0\n",
    ")"
   ]
  },
  {
   "cell_type": "code",
   "execution_count": 4,
   "metadata": {},
   "outputs": [
    {
     "name": "stdout",
     "output_type": "stream",
     "text": [
      "\n",
      "<PERSONA>\n",
      "Eres un asistente experto en atención al cliente que conoce de la marca Mikrotik y sus productos.\n",
      "</PERSONA>\n",
      "\n",
      "<TASK>\n",
      "Tu tarea es refrasear la solicitud del usuario para genera una solicitud refraseada.\n",
      "\n",
      "- Puedes corregir los errores gramaticales\n",
      "- Puedes mejorar la semántica y orden léxico de la palabras para un mejor entendimiento\n",
      "</TASK>\n",
      "\n"
     ]
    }
   ],
   "source": [
    "from typing import TypedDict\n",
    "from pydantic import Field\n",
    "\n",
    "agents = [\"main_agent\",\"about_agent\",\"not_related_agent\"]\n",
    "options = agents + [\"FINISH\"]\n",
    "system_prompt = SYSTEM_PROMPT = \"\"\"\n",
    "<PERSONA>\n",
    "Eres un asistente experto en atención al cliente que conoce de la marca Mikrotik y sus productos.\n",
    "</PERSONA>\n",
    "\n",
    "<TASK>\n",
    "Tu tarea es refrasear la solicitud del usuario para genera una solicitud refraseada.\n",
    "\n",
    "- Puedes corregir los errores gramaticales\n",
    "- Puedes mejorar la semántica y orden léxico de la palabras para un mejor entendimiento\n",
    "</TASK>\n",
    "\"\"\"\n",
    "print(system_prompt)\n",
    "\n",
    "class Rephraser(TypedDict):\n",
    "    \"\"\"Worker to rephrase the user's request\"\"\"\n",
    "    original: str = Field(description=\"Original request from the user\")\n",
    "    rephrased: str = Field(description=\"Rephrased request from the user\")\n",
    "\n",
    "llm_structured = llm.with_structured_output(Rephraser,method= 'json_schema')"
   ]
  },
  {
   "cell_type": "code",
   "execution_count": 5,
   "metadata": {},
   "outputs": [],
   "source": [
    "from typing import TypedDict\n",
    "from pydantic import Field\n",
    "\n",
    "system_prompt = \"\"\"\n",
    "<PERSONA>\n",
    "Eres un asistente que ayuda a mejorar y reformular las solicitudes de los usuarios.\n",
    "</PERSONA>\n",
    "\n",
    "<TASK>\n",
    "Tu tarea es SOLO reformular lo que el usuario ha escrito, manteniendo el mismo significado e intención pero mejorando su claridad y corrección gramatical.\n",
    "</TASK>\n",
    "\n",
    "<CONSTRAINTS>\n",
    "REGLAS ESTRICTAS:\n",
    "1. MANTÉN SIEMPRE la misma intención comunicativa y propósito del mensaje original.\n",
    "2. NUNCA cambies el tipo de mensaje (afirmación, pregunta, saludo, etc.).\n",
    "3. NUNCA cambies una afirmación por una pregunta o viceversa.\n",
    "4. NUNCA cambies el sujeto ni el objeto de la frase.\n",
    "5. NO respondas a la pregunta, solo reformúlala.\n",
    "6. NO cambies la solicitud por una respuesta.\n",
    "7. NO agregues información nueva que no esté implícita en el mensaje original.\n",
    "8. NO agregues ni quites información sustancial.\n",
    "9. Solo mejora la gramática, ortografía, puntuación y fluidez.\n",
    "</CONSTRAINTS>\n",
    "\n",
    "<EXAMPLE-1>\n",
    "Original: \"que es un router\"\n",
    "Reformulado: \"¿Qué es un router y cuáles son sus funciones principales?\"\n",
    "</EXAMPLE-1>\n",
    "\n",
    "<EXAMPLE-2>\n",
    "Original: \"Hola\"\n",
    "Reformulado: \"¡Hola! Buen día.\"\n",
    "</EXAMPLE-2>\n",
    "\n",
    "<EXAMPLE-3>\n",
    "Original: \"quiero saber precio router\"\n",
    "Reformulado: \"Me gustaría conocer el precio del router, por favor.\"\n",
    "</EXAMPLE-3>\n",
    "\n",
    "<WRONG-1>\n",
    "Original: \"¿Cuál es el precio de un router?\"\n",
    "Reformulado: \"El precio de un router es de $100.\"\n",
    "</WRONG-1>\n",
    "\n",
    "<WRONG-2>\n",
    "Original: \"Hola, ¿cómo estás?\"\n",
    "Reformulado: \"Estoy bien, gracias.\"\n",
    "</WRONG-2>\n",
    "\"\"\"\n",
    "\n",
    "class Rephraser(TypedDict):\n",
    "    \"\"\"Worker to rephrase the user's request\"\"\"\n",
    "    original: str = Field(description=\"Original request from the user\")\n",
    "    rephrased: str = Field(description=\"Rephrased request from the user, correcting grammar, improving semantics, and enhancing clarity\")\n",
    "    unreadable: bool = Field(description=\"True if the rephrased request is unreadable\")\n",
    "\n",
    "llm_structured = llm.with_structured_output(Rephraser, method='json_schema')"
   ]
  },
  {
   "cell_type": "code",
   "execution_count": 8,
   "metadata": {},
   "outputs": [
    {
     "data": {
      "text/plain": [
       "{'original': '¿Qué dices?',\n",
       " 'rephrased': '¿Qué tienes que decir?',\n",
       " 'unreadable': False}"
      ]
     },
     "execution_count": 8,
     "metadata": {},
     "output_type": "execute_result"
    }
   ],
   "source": [
    "messages = [\n",
    "        {\"role\": \"system\", \"content\": system_prompt},\n",
    "        {\"role\": \"user\", \"content\": \"que dices?\"},\n",
    "    ]\n",
    "llm_structured.invoke(messages)"
   ]
  },
  {
   "cell_type": "code",
   "execution_count": null,
   "metadata": {},
   "outputs": [],
   "source": []
  }
 ],
 "metadata": {
  "kernelspec": {
   "display_name": "venv",
   "language": "python",
   "name": "python3"
  },
  "language_info": {
   "codemirror_mode": {
    "name": "ipython",
    "version": 3
   },
   "file_extension": ".py",
   "mimetype": "text/x-python",
   "name": "python",
   "nbconvert_exporter": "python",
   "pygments_lexer": "ipython3",
   "version": "3.13.1"
  }
 },
 "nbformat": 4,
 "nbformat_minor": 2
}
