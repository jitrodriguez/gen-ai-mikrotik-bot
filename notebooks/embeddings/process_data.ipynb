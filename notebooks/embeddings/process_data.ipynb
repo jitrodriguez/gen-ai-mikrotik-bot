{
 "cells": [
  {
   "cell_type": "code",
   "execution_count": 68,
   "metadata": {},
   "outputs": [
    {
     "name": "stdout",
     "output_type": "stream",
     "text": [
      "[[-6.51995614e-02  6.05133586e-02  1.79699366e-03 -2.11219750e-02\n",
      "  -5.87918423e-02 -1.22480020e-02  4.41434160e-02  1.38162985e-01\n",
      "  -6.35557994e-02 -2.84093935e-02  2.94391364e-02 -1.86998621e-02\n",
      "   7.93902576e-02 -3.44210714e-02 -1.73610020e-02  2.74901800e-02\n",
      "  -6.72735497e-02  1.88886560e-02 -2.12969221e-02 -4.46643792e-02\n",
      "   5.74383475e-02 -1.13737829e-01 -7.40510300e-02 -1.76676847e-02\n",
      "  -6.63157925e-02  6.56991899e-02  5.84233329e-02  1.03078131e-02\n",
      "   9.50153265e-03  1.02672260e-03  5.41067235e-02  6.32527843e-02\n",
      "  -1.25984810e-02  3.45091745e-02  4.84431125e-02  4.40974385e-02\n",
      "  -1.00096479e-01 -2.05638018e-02  7.98964966e-03  5.61853535e-02\n",
      "  -1.08684629e-01 -6.23195842e-02 -1.35199353e-02 -2.90265139e-02\n",
      "   9.97233540e-02 -2.92712357e-03 -1.20487353e-02  9.22772065e-02\n",
      "   6.03910070e-03 -5.81868477e-02 -1.06771603e-01 -9.55989677e-03\n",
      "  -4.75460663e-02  2.72578076e-02  2.75665130e-02 -8.85460973e-02\n",
      "   5.76454122e-03  4.43496518e-02  6.09696545e-02 -1.00269884e-01\n",
      "   1.26418630e-02  1.53331272e-02  5.95976552e-03 -3.95313948e-02\n",
      "   1.34770479e-02 -3.84256616e-02 -2.67769750e-02 -2.56425049e-02\n",
      "  -5.73108383e-02  9.27370563e-02  8.09342340e-02 -1.61149236e-03\n",
      "   1.03771724e-02 -3.93052697e-02  2.44698767e-02 -5.44057461e-03\n",
      "  -8.55158549e-03  1.33090289e-02  1.84276886e-03  1.30234184e-02\n",
      "   2.38168538e-02 -8.22692588e-02 -8.32760185e-02 -4.61745039e-02\n",
      "  -3.14879268e-02  8.23760312e-03 -3.26332599e-02 -5.21467887e-02\n",
      "   1.74115524e-02 -2.05902625e-02  1.07007204e-02 -9.29221883e-03\n",
      "  -8.02151412e-02  3.11122090e-02  1.73874553e-02  3.43833938e-02\n",
      "  -3.07204016e-03  1.28807481e-02 -1.72772422e-03  6.19675033e-02\n",
      "  -1.07751088e-02 -2.13764161e-02 -2.98226811e-02  1.41778486e-02\n",
      "  -3.62254120e-02  1.06128689e-03  4.11527604e-02  1.68370660e-02\n",
      "   5.86990640e-02  7.96244480e-03 -5.87347671e-02 -1.03661947e-01\n",
      "  -1.26061970e-02 -1.33354170e-02  5.62985651e-02  4.42605838e-03\n",
      "   5.74800111e-02  4.11086753e-02 -4.92975526e-02 -2.43393909e-02\n",
      "   6.38238564e-02 -2.52579097e-02 -9.83560272e-03 -7.97487097e-04\n",
      "   2.48704143e-02 -1.19602075e-02  1.22370094e-01  4.88981663e-33\n",
      "  -6.26831502e-02 -5.23788035e-02 -1.08132977e-02 -1.70333199e-02\n",
      "  -8.23323876e-02  3.75614762e-02 -3.65639739e-02  6.86565833e-03\n",
      "   4.73483242e-02  3.46036302e-03 -7.80560300e-02  5.55367358e-02\n",
      "  -8.36712718e-02 -3.40548903e-02  1.89690348e-02 -1.03356920e-01\n",
      "   4.07044627e-02 -3.17321345e-02 -2.18606573e-02 -1.93670187e-02\n",
      "   2.75143124e-02 -1.51681542e-01  4.61659580e-02  2.06311084e-02\n",
      "  -4.21921350e-03  4.79481705e-02  3.71607579e-02 -7.66769126e-02\n",
      "   3.18608172e-02  2.78439112e-02 -1.50968172e-02  2.71980725e-02\n",
      "  -6.40798062e-02  4.96233143e-02 -6.64825514e-02 -1.72379874e-02\n",
      "   2.73585110e-03  1.49344793e-02 -9.13366899e-02 -3.68081555e-02\n",
      "  -7.73254186e-02 -1.41748684e-02  4.45272848e-02 -1.48951430e-02\n",
      "   1.34285063e-01  3.86978462e-02 -3.05139069e-02  4.17707935e-02\n",
      "   7.15692937e-02  5.56764826e-02 -8.26947689e-02  2.15176307e-03\n",
      "  -5.17062582e-02  3.23574468e-02  1.10126846e-01 -1.93047952e-02\n",
      "   1.46650523e-02  5.01737669e-02  1.93465445e-02 -5.43876039e-03\n",
      "  -9.77709051e-03 -2.36911401e-02  4.29624654e-02 -6.00232668e-02\n",
      "   4.40377705e-02  5.08264406e-03 -1.86770353e-02 -3.38704363e-02\n",
      "   3.19546722e-02  4.55302261e-02  2.41904752e-03 -7.62503827e-04\n",
      "   4.11960147e-02  7.30163902e-02 -5.05367778e-02 -4.73121144e-02\n",
      "   7.61463270e-02  2.69497298e-02 -7.21208900e-02 -1.92636810e-02\n",
      "  -9.91451666e-02 -1.26060452e-02  4.12328504e-02 -6.39653504e-02\n",
      "   6.60995021e-02 -2.94194315e-02 -1.65558681e-02 -1.23542044e-02\n",
      "   3.73568647e-02  5.57813086e-02 -7.06098676e-02  9.39687639e-02\n",
      "  -3.20114288e-03  3.25771533e-02  5.32838255e-02 -5.30362921e-33\n",
      "  -8.00671279e-02  4.08421233e-02 -2.39873212e-02  3.92825492e-02\n",
      "  -1.27595877e-02 -3.19617637e-03 -1.08380057e-02 -7.73617812e-03\n",
      "   5.71424328e-02  7.50654470e-03 -1.16755329e-01 -8.78876895e-02\n",
      "   5.44570647e-02  2.33093426e-02 -1.67506672e-02  7.40755200e-02\n",
      "   4.24371809e-02  2.09348295e-02  2.03835327e-04  5.72756305e-02\n",
      "  -8.70088041e-02  1.03106894e-01 -1.35306148e-02 -6.04714500e-03\n",
      "  -7.79992901e-03  2.09345035e-02 -5.03376909e-02 -1.51722934e-02\n",
      "  -8.31433609e-02  3.25269811e-02  3.82878967e-02  2.22358014e-02\n",
      "   1.97038800e-02  3.44586298e-02 -2.64431294e-02  2.01496482e-03\n",
      "   3.55876461e-02  7.76720885e-03  2.94187143e-02  2.42126118e-02\n",
      "   9.04624686e-02  4.13425937e-02  1.78749971e-02 -7.89218619e-02\n",
      "  -5.81140481e-02 -5.81361540e-02 -7.39132054e-03 -2.13207230e-02\n",
      "   1.87328272e-02  1.74566377e-02  8.88631269e-02 -5.74821532e-02\n",
      "   1.71161704e-02 -6.23750463e-02  2.79595442e-02  6.92722872e-02\n",
      "  -3.82125676e-02 -2.87553016e-03 -2.12954972e-02  1.09528098e-02\n",
      "   1.25704393e-01 -4.04456519e-02 -5.10274246e-03  1.02464687e-02\n",
      "   4.63970527e-02  8.80232954e-04  6.01008609e-02  5.36296293e-02\n",
      "   3.93780470e-02  7.77994888e-03  7.62667432e-02  1.58862642e-03\n",
      "   1.26340650e-02  5.82016595e-02  6.46972433e-02 -3.25029232e-02\n",
      "  -1.09074622e-01  1.69763893e-01 -2.50857533e-03 -1.94880385e-02\n",
      "  -5.30888364e-02  1.00460023e-01 -2.22311057e-02 -4.70292987e-03\n",
      "  -8.50114673e-02 -8.45443159e-02  1.77167114e-02 -2.18312256e-02\n",
      "   3.39744873e-02 -6.65093586e-02 -1.72732752e-02  6.74327910e-02\n",
      "   2.89510470e-02  6.53206706e-02  3.85262864e-03 -2.27228938e-08\n",
      "  -3.88528481e-02 -6.31187037e-02 -3.71402465e-02  3.02504189e-02\n",
      "   8.56811032e-02 -5.59701473e-02  1.08111994e-02 -4.13271636e-02\n",
      "  -8.06597993e-02 -9.93660768e-04 -2.92873755e-02 -1.59670673e-02\n",
      "  -1.93468444e-02  1.02367818e-01  1.79510389e-03 -4.08723243e-02\n",
      "   3.13145407e-02  3.41279022e-02 -2.55451556e-02 -7.46344030e-02\n",
      "   1.42894670e-01 -5.56838550e-02 -1.45948594e-02  3.50840576e-02\n",
      "   2.73678117e-02  4.04670388e-02  1.28233442e-02 -4.61330228e-02\n",
      "   7.64697464e-03  3.47954892e-02 -4.87694144e-02 -6.11619139e-03\n",
      "   2.36095078e-02 -4.29571122e-02 -6.93176538e-02  9.08309668e-02\n",
      "  -1.11691160e-02  5.00555001e-02 -9.44180116e-02  7.25314841e-02\n",
      "  -4.63790484e-02  5.08148633e-02  2.52789315e-02 -8.95221308e-02\n",
      "  -8.29637423e-03 -4.99569811e-02 -6.75649643e-02 -2.94624399e-02\n",
      "   8.60905461e-03  3.05834562e-02 -8.25267360e-02 -1.83258187e-02\n",
      "   4.29607779e-02  2.20518443e-03  7.67765716e-02 -5.58737516e-02\n",
      "   6.05033524e-02  1.05086472e-02 -2.99711269e-03 -5.70917204e-02\n",
      "  -4.76002656e-02  8.36040601e-02 -1.91820711e-02  4.36640270e-02]\n",
      " [ 1.52405270e-03  2.46176738e-02  4.10655653e-03  4.06319872e-02\n",
      "   3.86132160e-03  4.31926176e-02  4.87914719e-02  4.61724363e-02\n",
      "   1.15203485e-03  8.34554154e-03  1.31828710e-02 -4.08584476e-02\n",
      "  -2.59768553e-02  1.16283018e-02 -2.57110223e-02  2.70735901e-02\n",
      "  -8.50428268e-02  4.40508351e-02  5.14361821e-02 -1.69483442e-02\n",
      "   7.64299259e-02 -3.96457575e-02 -1.39757827e-01  8.81682038e-02\n",
      "  -4.30520885e-02 -6.72515556e-02  1.46036046e-02  4.50468948e-03\n",
      "  -5.53419888e-02 -2.35679429e-02 -5.03166541e-02  2.92288773e-02\n",
      "   7.31099173e-02  5.16958982e-02 -1.92550439e-02  2.13930383e-02\n",
      "   1.01210199e-01 -7.19479322e-02  4.85747531e-02  4.06594947e-02\n",
      "  -1.49557620e-01  3.03358324e-02 -1.78917628e-02  2.93080751e-02\n",
      "   8.25248752e-03 -2.76093073e-02  3.82532291e-02  4.93156724e-02\n",
      "   4.01321426e-02  6.26986194e-03 -3.54905650e-02 -2.62693465e-02\n",
      "  -3.54989842e-02  6.61750361e-02  4.92121913e-02  5.65685667e-02\n",
      "   3.44063416e-02 -3.05702277e-02  8.27146769e-02  7.68540651e-02\n",
      "  -3.51722986e-02  2.88266577e-02 -2.35240534e-02  1.36231743e-02\n",
      "   2.54787020e-02 -1.87660772e-02  1.94589142e-02  4.30569947e-02\n",
      "  -8.93127099e-02  1.26316361e-02  1.31136551e-01  2.87661348e-02\n",
      "   5.47623709e-02  3.13366167e-02  1.92845464e-02  1.55688152e-02\n",
      "  -1.08860552e-01 -2.73675099e-02 -6.82598725e-02  6.04952080e-03\n",
      "  -2.48090606e-02 -3.25486735e-02  7.84420117e-05 -5.15207797e-02\n",
      "   4.41932157e-02 -6.69766869e-03 -3.67589816e-02 -2.69934386e-02\n",
      "   4.57600839e-02  1.45375561e-02  2.01892946e-02  5.78716733e-02\n",
      "  -7.30911270e-02  3.52628566e-02 -6.00262322e-02  2.64113173e-02\n",
      "   2.32893024e-02  3.15157836e-03 -2.43800562e-02  5.69042899e-02\n",
      "   6.87351748e-02  7.27916136e-02  9.49776098e-02  1.61958896e-02\n",
      "   4.98141162e-02  6.06548637e-02  2.83229798e-02  8.56946688e-03\n",
      "   2.04702467e-03 -2.99155246e-03 -4.52996790e-02 -6.07332168e-03\n",
      "  -2.86438055e-02  1.80337634e-02 -4.88044210e-02 -3.86852422e-03\n",
      "   3.40229608e-02  3.10886726e-02 -4.51635495e-02 -6.85082898e-02\n",
      "   6.63394779e-02  2.19749529e-02 -1.05435282e-01 -5.05691543e-02\n",
      "  -5.34892306e-02 -6.89994842e-02  3.86997312e-02  2.93803076e-33\n",
      "  -1.14736790e-02  1.41325165e-02 -6.32333905e-02  9.21067670e-02\n",
      "  -3.10295578e-02  1.44934282e-02 -1.15137473e-02 -6.67172903e-03\n",
      "  -6.53894469e-02 -3.00660320e-02 -1.52993854e-02  3.34943123e-02\n",
      "  -3.84892896e-02  6.12218678e-02  2.38442123e-02  6.79060444e-02\n",
      "  -5.80388568e-02 -1.61396842e-02 -2.45830952e-03 -2.01570913e-02\n",
      "  -4.73770462e-02 -2.78235972e-02 -1.07354848e-02 -2.92745810e-02\n",
      "  -3.93137820e-02  6.30230904e-02 -1.93192866e-02 -7.93081075e-02\n",
      "  -6.32857531e-02  4.79882844e-02 -4.08836342e-02  1.16077587e-01\n",
      "   5.17335832e-02 -4.90803756e-02  4.72240858e-02 -8.37187022e-02\n",
      "   2.21388098e-02  7.73283886e-03 -8.25982988e-02  1.56150421e-03\n",
      "   1.20831177e-01  6.80937171e-02 -5.07903919e-02  8.54527950e-03\n",
      "  -7.46640610e-03  2.02725618e-03  4.55703326e-02  4.07808125e-02\n",
      "   7.88789392e-02 -8.83653236e-04 -3.74942794e-02 -6.27612546e-02\n",
      "  -3.72733772e-02 -4.30686250e-02  4.62607220e-02 -4.08878103e-02\n",
      "  -1.57099888e-02  7.41780251e-02  1.93782803e-02 -1.80642102e-02\n",
      "   3.92434970e-02  1.47884078e-02  8.14831182e-02  1.65097695e-02\n",
      "  -9.74201411e-03 -4.03404720e-02 -1.18397120e-02  3.19077596e-02\n",
      "   1.11905918e-01  1.40025970e-02 -7.89407939e-02  6.46519847e-03\n",
      "   2.39452859e-03 -3.28136124e-02  1.62976272e-02 -8.32831189e-02\n",
      "   4.66597527e-02 -5.16006202e-02 -2.17313822e-02  1.46318888e-02\n",
      "  -4.05174121e-02 -2.69121397e-02  2.47664396e-02  3.90364751e-02\n",
      "   6.06190078e-02  3.57522704e-02  1.08811356e-01  3.71668376e-02\n",
      "  -4.20088619e-02  6.15332797e-02 -4.87356745e-02  6.10573664e-02\n",
      "   6.01245686e-02 -8.31602365e-02  3.57346721e-02 -2.58055191e-33\n",
      "  -5.95704280e-02 -5.88542894e-02  8.29194933e-02 -1.63415410e-02\n",
      "  -8.13008994e-02 -4.48294058e-02 -9.53997951e-04 -1.46160536e-02\n",
      "   3.31879929e-02 -1.22195125e-01 -5.84428497e-02 -1.57324702e-01\n",
      "   1.47324651e-01  3.68627757e-02 -6.86787302e-03  6.88352510e-02\n",
      "   2.86395773e-02 -6.06734753e-02 -9.96248722e-02  5.11623435e-02\n",
      "  -1.03398571e-02  2.91783493e-02  3.11888196e-02  5.73716387e-02\n",
      "  -7.45376013e-03 -6.27270062e-03  3.92776914e-02  6.37679473e-02\n",
      "  -3.67315263e-02 -1.70871690e-02  8.19420591e-02 -2.33933665e-02\n",
      "  -1.68840792e-02  2.84923706e-02 -1.10700190e-01  4.86486554e-02\n",
      "  -2.80922372e-02  8.82238522e-02  8.06952789e-02  4.56630513e-02\n",
      "   7.05547556e-02  1.67441387e-02 -2.32502706e-02 -3.17249596e-02\n",
      "  -7.72288889e-02  6.20136596e-02  7.91744981e-03 -7.87813067e-02\n",
      "  -3.02110426e-02 -2.65347846e-02  2.60372995e-03 -3.26860584e-02\n",
      "  -1.26405373e-01 -1.91236958e-02  3.73570397e-02 -8.32414553e-02\n",
      "  -7.68776536e-02 -6.00525662e-02 -7.35540390e-02 -2.25494727e-02\n",
      "  -3.31496187e-02  3.48969363e-02 -5.51433228e-02 -2.32252642e-03\n",
      "   4.90444750e-02  4.14590277e-02 -2.39731390e-02  3.34705338e-02\n",
      "   7.61689693e-02  3.78449187e-02  6.94588497e-02  4.41885628e-02\n",
      "  -8.52533355e-02  1.19615654e-02 -5.60254492e-02 -1.85527857e-02\n",
      "  -1.39113799e-01  6.87149465e-02 -4.94455136e-02  7.66610056e-02\n",
      "  -1.74490195e-02 -1.08857751e-02 -3.40234265e-02 -1.71837527e-02\n",
      "   6.70728087e-03 -2.48713214e-02 -1.13568172e-01 -1.76712759e-02\n",
      "   3.45769674e-02 -7.60486675e-03  5.34379445e-02  4.53228243e-02\n",
      "  -4.58633527e-02 -6.62793145e-02 -8.26572534e-03 -1.81167792e-08\n",
      "   1.36912251e-02 -3.17025110e-02  3.21999416e-02  1.39834983e-02\n",
      "   2.99385488e-02 -3.04628350e-02 -1.99124757e-02 -2.02023834e-02\n",
      "   6.89668814e-03  8.61255750e-02 -1.66596696e-02  1.86500475e-02\n",
      "   1.94615051e-02  2.59634480e-02 -3.09033412e-02  2.40889676e-02\n",
      "   1.01130344e-02  8.93871635e-02  1.45895705e-02  1.67352222e-02\n",
      "   3.96216176e-02 -7.77140912e-03 -1.36494637e-03 -1.52220922e-02\n",
      "   1.40631413e-02  5.33141419e-02 -2.04154272e-02 -2.67614014e-02\n",
      "  -2.00573150e-02 -9.16009024e-02  3.01333480e-02  1.69104971e-02\n",
      "  -5.70183210e-02 -7.29280189e-02 -2.87537486e-03  1.74027327e-02\n",
      "  -3.27390395e-02 -3.70844975e-02 -7.99193755e-02 -4.90634404e-02\n",
      "   1.09091975e-01  3.59744579e-02 -5.14040142e-02 -1.27501618e-02\n",
      "   1.52838640e-02 -7.53856301e-02 -1.58711504e-02  3.94224301e-02\n",
      "   1.21416301e-02  5.47909662e-02  1.02896453e-03 -9.94286537e-02\n",
      "   5.66574559e-02  3.39839682e-02  7.11202919e-02 -2.46106330e-02\n",
      "   4.33931872e-02  2.14306097e-02 -2.46704207e-03  1.72693785e-02\n",
      "  -1.54063646e-02  1.52141610e-02  6.68884143e-02 -9.59600359e-02]]\n"
     ]
    }
   ],
   "source": [
    "from sentence_transformers import SentenceTransformer\n",
    "sentences = [\"Mikrotik bot fue creado para solucionar problemas\", \"Fue creado por Juan y Luis\"]\n",
    "\n",
    "encoder = SentenceTransformer('sentence-transformers/all-MiniLM-L6-v2')\n",
    "embeddings = encoder.encode(sentences)\n",
    "print(embeddings)\n"
   ]
  },
  {
   "cell_type": "code",
   "execution_count": 69,
   "metadata": {},
   "outputs": [
    {
     "name": "stdout",
     "output_type": "stream",
     "text": [
      "384\n"
     ]
    }
   ],
   "source": [
    "embeddings_length = len(embeddings[0])\n",
    "print(embeddings_length)"
   ]
  },
  {
   "cell_type": "code",
   "execution_count": 70,
   "metadata": {},
   "outputs": [
    {
     "data": {
      "text/plain": [
       "True"
      ]
     },
     "execution_count": 70,
     "metadata": {},
     "output_type": "execute_result"
    }
   ],
   "source": [
    "import os\n",
    "from dotenv import load_dotenv\n",
    "from qdrant_client import QdrantClient\n",
    "from langchain_qdrant import QdrantVectorStore\n",
    "from qdrant_client.http.models import Distance, VectorParams\n",
    "\n",
    "load_dotenv()\n",
    "\n",
    "qdrant_api_endpoint = os.getenv(\"QDRANT_API_ENDPOINT\")\n",
    "qdrant_api_key = os.getenv(\"QDRANT_API_KEY\")\n",
    "\n",
    "client = QdrantClient(\n",
    "    url=qdrant_api_endpoint,\n",
    "    api_key=qdrant_api_key\n",
    ")\n",
    "collection_name = \"mikrotik-bot-info\"\n",
    "client.delete_collection(collection_name=collection_name)\n",
    "client.create_collection(\n",
    "    collection_name=collection_name,\n",
    "    vectors_config=VectorParams(size=embeddings_length,distance=Distance.COSINE)\n",
    ")"
   ]
  },
  {
   "cell_type": "code",
   "execution_count": 71,
   "metadata": {},
   "outputs": [],
   "source": [
    "encoder = SentenceTransformer(\"all-MiniLM-L6-v2\")"
   ]
  },
  {
   "cell_type": "code",
   "execution_count": 72,
   "metadata": {},
   "outputs": [],
   "source": [
    "from qdrant_client import models, QdrantClient\n",
    "from langchain_huggingface import HuggingFaceEmbeddings\n",
    "import uuid\n",
    "\n",
    "embeddings = HuggingFaceEmbeddings(model_name=\"all-MiniLM-L6-v2\")\n",
    "\n",
    "sentences = [\"Mikrotik bot fue creado para solucionar problemas\", \"Fue creado por Juan y Luis\"]\n",
    "\n",
    "\n",
    "vector_store = QdrantVectorStore(\n",
    "    client=client,\n",
    "    collection_name=collection_name,\n",
    "    embedding=embeddings,\n",
    ")"
   ]
  },
  {
   "cell_type": "code",
   "execution_count": 84,
   "metadata": {},
   "outputs": [],
   "source": [
    "# read mikrotik_bot.txt\n",
    "with open(\"mikrotik_bot.txt\", \"r\",encoding=\"latin-1\") as file:\n",
    "    mikrotik_bot_text = file.read()"
   ]
  },
  {
   "cell_type": "code",
   "execution_count": 85,
   "metadata": {},
   "outputs": [
    {
     "name": "stderr",
     "output_type": "stream",
     "text": [
      "WARNING:langchain_text_splitters.base:Created a chunk of size 180, which is longer than the specified 150\n",
      "WARNING:langchain_text_splitters.base:Created a chunk of size 221, which is longer than the specified 150\n",
      "WARNING:langchain_text_splitters.base:Created a chunk of size 178, which is longer than the specified 150\n",
      "WARNING:langchain_text_splitters.base:Created a chunk of size 216, which is longer than the specified 150\n",
      "WARNING:langchain_text_splitters.base:Created a chunk of size 295, which is longer than the specified 150\n",
      "WARNING:langchain_text_splitters.base:Created a chunk of size 151, which is longer than the specified 150\n"
     ]
    }
   ],
   "source": [
    "from langchain.text_splitter import CharacterTextSplitter\n",
    "text_splitter = CharacterTextSplitter(chunk_size = 150, chunk_overlap=10, separator='.', strip_whitespace=False)\n",
    "\n",
    "text_documents = text_splitter.create_documents([mikrotik_bot_text])"
   ]
  },
  {
   "cell_type": "code",
   "execution_count": 94,
   "metadata": {},
   "outputs": [
    {
     "data": {
      "text/plain": [
       "<langchain_text_splitters.character.CharacterTextSplitter at 0x364a63200>"
      ]
     },
     "execution_count": 94,
     "metadata": {},
     "output_type": "execute_result"
    }
   ],
   "source": [
    "text_splitter"
   ]
  },
  {
   "cell_type": "code",
   "execution_count": 87,
   "metadata": {},
   "outputs": [
    {
     "data": {
      "text/plain": [
       "[Document(metadata={}, page_content='MIKROTIK BOT\\nNombre: Mikrotik Bot.\\nMotivo de creaciÃ³n: \\n-\\tDelegar preguntas repetitivas.\\n-\\tReducciÃ³n de carga en agentes humanos'),\n",
       " Document(metadata={}, page_content='\\n-\\tMejora en la eficiencia.\\n-\\tConsistencia en respuestas gracias a la bÃºsqueda en base de datos actualizada.\\nLugar de creaciÃ³n: Lima, PerÃº'),\n",
       " Document(metadata={}, page_content='\\nCreadores: Juan Rodriguez y Luis Huaman.\\nProfesor: Espichan Vilca James Muller.\\nTrabajo Final del curso de creaciÃ³n de aplicaciones con IA para IDAT'),\n",
       " Document(metadata={}, page_content='\\nArquitectura del bot:\\nDe manera general el chatbot tiene: router, main agent, compare agent, about agent'),\n",
       " Document(metadata={}, page_content='\\nEl bot estÃ¡ constituido por un router (inicialmente estaba un rephraser que nos ayudaba a mejorar la pregunta, sin embargo, debido a diferentes errores se ha quitado el rephrser)'),\n",
       " Document(metadata={}, page_content='\\nEste router contiene 3 posibles rutas:\\nMain_agent: que serÃ\\xada el agente principal, este agente estÃ¡ encargado de responder todas las respuestas referentes a equipos de telecomunicaciones mikrotik, routers, switches, etc'),\n",
       " Document(metadata={}, page_content=' cuenta con las siguientes tools:\\n-\\tsearch_products_by_power_specs: Busca especificaciones respecto a energÃ\\xada, de momento solo soporta el consume en watts como maximos y minimos'),\n",
       " Document(metadata={}, page_content='\\n-\\tsearch_products_by_connectivity_specs: Busca especificaciones respecto a especificaciones, de momento se soportan numero de puertos ethernet, numero de puertos ethernet con poe, numero de puertos ethernet con 1g 2'),\n",
       " Document(metadata={}, page_content='5.5g y 10g, puertos sfp, puertos sfp plus y Sistema operative como router os y otros'),\n",
       " Document(metadata={}, page_content='\\n-\\tsearch_products_by_category: con las siguientes categorias\\nNuevos productos,Routers Ethernet,Switches,Sistemas inalÃ¡mbricos,InalÃ¡mbrico para el hogar y la oficina,Productos LTE/5G,sobre lÃ\\xadneas elÃ©ctricas, Productos IoT,Productos de 60 GHz,RouterBOARD,Cajas,Interfaces,Accesorios, SFP/QSFP'),\n",
       " Document(metadata={}, page_content='\\nAbout agent: este agente va a contester todas las preguntas de este texto, y acerca del bot, todo lo relacionado con el lugar de creaciÃ³n y creadores'),\n",
       " Document(metadata={}, page_content='\\nCompare agent: este agente compara los productos que el usuario ha agregado a la conversaciÃ³n como contexto.\\n\\n\\n\\n\\n\\n')]"
      ]
     },
     "execution_count": 87,
     "metadata": {},
     "output_type": "execute_result"
    }
   ],
   "source": [
    "len(text_documents)"
   ]
  },
  {
   "cell_type": "code",
   "execution_count": 88,
   "metadata": {},
   "outputs": [
    {
     "data": {
      "text/plain": [
       "['0a98507b-ede4-4b62-bcb0-968e8c0dad19',\n",
       " 'd8858544-0fd7-4de9-a40b-8c5141f96d37',\n",
       " '44f41870-88a9-45be-b8c0-889ee44c007e',\n",
       " '8dba1736-0bf3-4abb-93c1-72a50421307f',\n",
       " '8ec5958c-5a96-40d6-a584-f04c63eb3d91',\n",
       " '65bf4564-d4af-4021-80f3-3cabf05a71fe',\n",
       " '8b3ee430-0aeb-4bbd-9059-999bf991ad63',\n",
       " '0dca9998-a14e-4448-bb95-9ac403c26bfb',\n",
       " '58e52071-9dd2-43a7-b9f4-e7d221e2d7f4',\n",
       " 'f3f50a85-e613-4573-87d6-077dcf8da569',\n",
       " '6fbca2c6-0716-47b7-81a9-bd16ebc61310',\n",
       " 'e0a54a06-68fc-4d5e-b644-3e79f1368a46']"
      ]
     },
     "execution_count": 88,
     "metadata": {},
     "output_type": "execute_result"
    }
   ],
   "source": [
    "vector_store.add_documents(\n",
    "    documents=text_documents,\n",
    "    ids=[str(uuid.uuid4()) for _ in range(len(text_documents))])"
   ]
  },
  {
   "cell_type": "code",
   "execution_count": 95,
   "metadata": {},
   "outputs": [
    {
     "data": {
      "text/plain": [
       "[Document(metadata={'_id': 'e0a54a06-68fc-4d5e-b644-3e79f1368a46', '_collection_name': 'mikrotik-bot-info'}, page_content='\\nCompare agent: este agente compara los productos que el usuario ha agregado a la conversaciÃ³n como contexto.\\n\\n\\n\\n\\n\\n'),\n",
       " Document(metadata={'_id': '8ec5958c-5a96-40d6-a584-f04c63eb3d91', '_collection_name': 'mikrotik-bot-info'}, page_content='\\nEl bot estÃ¡ constituido por un router (inicialmente estaba un rephraser que nos ayudaba a mejorar la pregunta, sin embargo, debido a diferentes errores se ha quitado el rephrser)'),\n",
       " Document(metadata={'_id': 'd8858544-0fd7-4de9-a40b-8c5141f96d37', '_collection_name': 'mikrotik-bot-info'}, page_content='\\n-\\tMejora en la eficiencia.\\n-\\tConsistencia en respuestas gracias a la bÃºsqueda en base de datos actualizada.\\nLugar de creaciÃ³n: Lima, PerÃº'),\n",
       " Document(metadata={'_id': '44f41870-88a9-45be-b8c0-889ee44c007e', '_collection_name': 'mikrotik-bot-info'}, page_content='\\nCreadores: Juan Rodriguez y Luis Huaman.\\nProfesor: Espichan Vilca James Muller.\\nTrabajo Final del curso de creaciÃ³n de aplicaciones con IA para IDAT')]"
      ]
     },
     "execution_count": 95,
     "metadata": {},
     "output_type": "execute_result"
    }
   ],
   "source": [
    "vector_store.similarity_search(query=\"Como llegas a comparar las cosas?\", k=4)"
   ]
  },
  {
   "cell_type": "code",
   "execution_count": null,
   "metadata": {},
   "outputs": [],
   "source": [
    "\n"
   ]
  }
 ],
 "metadata": {
  "kernelspec": {
   "display_name": "venv",
   "language": "python",
   "name": "python3"
  },
  "language_info": {
   "codemirror_mode": {
    "name": "ipython",
    "version": 3
   },
   "file_extension": ".py",
   "mimetype": "text/x-python",
   "name": "python",
   "nbconvert_exporter": "python",
   "pygments_lexer": "ipython3",
   "version": "3.13.1"
  }
 },
 "nbformat": 4,
 "nbformat_minor": 2
}
