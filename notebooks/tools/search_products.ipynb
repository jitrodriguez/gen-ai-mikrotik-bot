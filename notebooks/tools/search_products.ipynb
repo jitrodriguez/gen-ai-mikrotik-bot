{
 "cells": [
  {
   "cell_type": "code",
   "execution_count": 7,
   "metadata": {},
   "outputs": [],
   "source": [
    "from sqlalchemy import create_engine\n",
    "from sqlalchemy.orm import sessionmaker\n",
    "\n",
    "DATABASE_URL = \"sqlite:///./../../app/database/database_test.db\"\n",
    "\n",
    "engine = create_engine(DATABASE_URL)\n",
    "SessionLocal = sessionmaker(autocommit=False, autoflush=False, bind=engine)"
   ]
  },
  {
   "cell_type": "code",
   "execution_count": 8,
   "metadata": {},
   "outputs": [],
   "source": [
    "from typing import List, Dict, Optional, Tuple\n",
    "from sqlalchemy.orm import Session\n",
    "from sqlalchemy import text\n",
    "from langchain_core.tools import tool\n",
    "from langchain_core.messages import HumanMessage, ToolMessage, SystemMessage\n",
    "\n",
    "@tool\n",
    "def search_products_by_category(category_id: int, top_n: int = 5, order_by: Optional[str] = None, order: str = 'ASC', price_range: Optional[Tuple[float, float]] = None) -> str:\n",
    "# def search_products_by_category(category_id: int, top_n: int = 5, order_by: Optional[str] = None, order: str = 'ASC', price_range: Optional[Tuple[float, float]] = None) -> List[Dict[str, str]]:\n",
    "    \"\"\"\n",
    "    Antes de  ejecutar esta función, debes tener la categoría en la base de datos, si no la tienes debes llamar a la función `get_categories` para obtener las categorías disponibles.\n",
    "    Busca productos por categoría con opciones de filtrado y ordenamiento, primero debes tener la categoría para hacer la solicitud.\n",
    "\n",
    "    Args:\n",
    "        category_id (int): ID de la categoría para buscar productos. Mandatory.\n",
    "        top_n (int, opcional): Número máximo de productos a devolver. Por defecto es 5.\n",
    "        order_by (str, opcional): Campo por el cual ordenar los resultados. Por defecto es None.\n",
    "        order (str, opcional): Orden de los resultados ('ASC' o 'DESC'). Por defecto es 'ASC'.\n",
    "        price_range (tuple, opcional): Rango de precios (min, max) para filtrar los productos. Por defecto es None.\n",
    "\n",
    "    Returns:\n",
    "        str: Tabla con los detalles de los productos.\n",
    "    \"\"\"\n",
    "    session: Session = SessionLocal()\n",
    "    try:\n",
    "        query = \"\"\"\n",
    "            SELECT p.id, p.name, p.description, p.code, p.price\n",
    "            FROM products p\n",
    "            JOIN product_category pc\n",
    "            ON p.id = pc.product_id\n",
    "            WHERE pc.category_id = :category_id\n",
    "        \"\"\"\n",
    "        params = {\"category_id\": category_id}\n",
    "        \n",
    "        if price_range:\n",
    "            query += \" AND p.price BETWEEN :min_price AND :max_price\"\n",
    "            params[\"min_price\"] = price_range[0]\n",
    "            params[\"max_price\"] = price_range[1]\n",
    "        \n",
    "        if order_by:\n",
    "            query += f\" ORDER BY {order_by} {order}\"\n",
    "        \n",
    "        query += f\" LIMIT {top_n}\"\n",
    "        \n",
    "        result = session.execute(text(query), params)\n",
    "        rows = result.fetchall()\n",
    "        products = []\n",
    "        products_str = \"\"\"\n",
    "        ID | Nombre | Descripción | Código | Precio\n",
    "        \"\"\"\n",
    "        for row in rows:\n",
    "            # make a table with the products, id, name, code and price\n",
    "            products_str += f\"{row[0]} | {row[1]} | {row[3]} | {row[4]} \\n\"\n",
    "\n",
    "        return products_str\n",
    "    finally:\n",
    "        session.close()"
   ]
  },
  {
   "cell_type": "code",
   "execution_count": 9,
   "metadata": {},
   "outputs": [],
   "source": [
    "from typing import List, Dict\n",
    "from sqlalchemy.orm import Session\n",
    "from langchain_core.tools import tool\n",
    "\n",
    "@tool\n",
    "def get_categories() -> str:\n",
    "# def get_categories() -> List[Dict[str, str]]:\n",
    "    \"\"\"\n",
    "    Obtiene todas las categorías de la base de datos.\n",
    "\n",
    "    Returns:\n",
    "        str: Tabla con los detalles de las categorías.\n",
    "    \"\"\"\n",
    "    session: Session = SessionLocal()\n",
    "    try:\n",
    "        query = \"SELECT * FROM categories\"\n",
    "        result = session.execute(query)\n",
    "        rows = result.fetchall()\n",
    "        categories = []\n",
    "        categories_str = \"\"\n",
    "        for row in rows:\n",
    "            # category = {\n",
    "            #     \"id\": row[0],\n",
    "            #     \"name\": row[1],\n",
    "            #     \"url\": row[2]\n",
    "            # }\n",
    "            # categories.append(category)\n",
    "            categories_str += f\"{row[0]} - {row[1]}\\n\"\n",
    "        return categories_str\n",
    "    except Exception as e:\n",
    "        print(e)\n",
    "    finally:\n",
    "        session.close()"
   ]
  },
  {
   "cell_type": "code",
   "execution_count": 10,
   "metadata": {},
   "outputs": [],
   "source": [
    "@tool\n",
    "def get_product_info_by_search_term(search_term: str) -> str:\n",
    "    \"\"\"\n",
    "    Busca productos por término de búsqueda.\n",
    "    \n",
    "    IMPORTANTE: Solo se busca por nombre, descripción y código de producto.\n",
    "\n",
    "    Args:\n",
    "        search_term (str): Nombre, descripción o código de producto a buscar.\n",
    "\n",
    "    Returns:\n",
    "        str: Lista de productos que coinciden con el término de búsqueda.\n",
    "    \"\"\"\n",
    "    session: Session = SessionLocal()\n",
    "    try:\n",
    "        query = \"\"\"\n",
    "            SELECT p.id, p.name, p.description, p.code, p.price\n",
    "            FROM products p\n",
    "            WHERE p.name LIKE :search_term or p.description LIKE :search_term or p.code LIKE :search_term\n",
    "        \"\"\"\n",
    "        params = {\"search_term\": f\"%{search_term}%\"}\n",
    "        result = session.execute(text(query), params)\n",
    "        rows = result.fetchall()\n",
    "        products = []\n",
    "        products_str = \"\"\"\n",
    "        ID | Nombre | Descripción | Código | Precio\n",
    "        \"\"\"\n",
    "        for row in rows:\n",
    "            # make a table with the products, id, name, code and price\n",
    "            products_str += f\"{row[0]} | {row[1]} | {row[3]} | {row[4]} \\n\"\n",
    "\n",
    "        return products_str\n",
    "    finally:\n",
    "        session.close()\n"
   ]
  },
  {
   "cell_type": "code",
   "execution_count": 11,
   "metadata": {},
   "outputs": [],
   "source": [
    "from langchain_ollama import ChatOllama\n",
    "\n",
    "llm = ChatOllama(\n",
    "    model=\"llama3.2:latest\",\n",
    "    temperature=0,\n",
    ")\n",
    "\n",
    "llm_with_tools = llm.bind_tools([search_products_by_category])"
   ]
  },
  {
   "cell_type": "code",
   "execution_count": 12,
   "metadata": {},
   "outputs": [
    {
     "name": "stdout",
     "output_type": "stream",
     "text": [
      "[{'name': 'search_products_by_category', 'args': {'category_id': 3, 'order': 'ASC', 'order_by': 'price', 'top_n': 10}, 'id': '4185ad82-25bf-4ee0-af41-32439c8e781c', 'type': 'tool_call'}]\n"
     ]
    }
   ],
   "source": [
    "all_categories = get_categories.invoke({})\n",
    "messages = [\n",
    "    SystemMessage(f\"\"\"\n",
    "    Eres un bot especializado en productos de Mikrotik, puedes ayudar a los usuarios a encontrar productos y categorías.\n",
    "\n",
    "    estas son las categorías disponibles:\n",
    "    {all_categories}\n",
    "\n",
    "    \"\"\"),\n",
    "    # HumanMessage(\"Que productos nuevos tiene mikrotik?\"),\n",
    "    HumanMessage(\"Cuales son los switches más baratos que tiene mikrotik?\"),\n",
    "]\n",
    "\n",
    "ai_msg = llm_with_tools.invoke(messages)\n",
    "messages.append(ai_msg)\n",
    "print(ai_msg.tool_calls)\n",
    "for tool_call in ai_msg.tool_calls:\n",
    "    tool_name = tool_call[\"name\"].lower()\n",
    "    selected_tool = {\n",
    "        \"search_products_by_category\": search_products_by_category,\n",
    "        \"get_categories\": get_categories,\n",
    "    }[tool_name]\n",
    "    # print(\"first call\")\n",
    "    tool_output = selected_tool.invoke(tool_call[\"args\"])\n",
    "    messages.append(ToolMessage(tool_output, tool_call_id=tool_call[\"id\"]))\n",
    "\n",
    "result = llm_with_tools.invoke(messages)\n",
    "\n"
   ]
  },
  {
   "cell_type": "code",
   "execution_count": 13,
   "metadata": {},
   "outputs": [
    {
     "data": {
      "text/plain": [
       "'1 - New products\\n2 - Ethernet routers\\n3 - Switches\\n4 - Wireless systems\\n5 - Wireless for home and office\\n6 - LTE/5G products\\n7 - Data over Powerlines\\n8 - IoT products\\n9 - 60 GHz products\\n10 - RouterBOARD\\n11 - Enclosures\\n12 - Interfaces\\n13 - Accessories\\n14 - Antennas\\n15 - SFP/QSFP\\n'"
      ]
     },
     "execution_count": 13,
     "metadata": {},
     "output_type": "execute_result"
    }
   ],
   "source": [
    "all_categories"
   ]
  },
  {
   "cell_type": "code",
   "execution_count": 14,
   "metadata": {},
   "outputs": [
    {
     "name": "stdout",
     "output_type": "stream",
     "text": [
      "content='\\n    Eres un bot especializado en productos de Mikrotik, puedes ayudar a los usuarios a encontrar productos y categorías.\\n\\n    estas son las categorías disponibles:\\n    1 - New products\\n2 - Ethernet routers\\n3 - Switches\\n4 - Wireless systems\\n5 - Wireless for home and office\\n6 - LTE/5G products\\n7 - Data over Powerlines\\n8 - IoT products\\n9 - 60 GHz products\\n10 - RouterBOARD\\n11 - Enclosures\\n12 - Interfaces\\n13 - Accessories\\n14 - Antennas\\n15 - SFP/QSFP\\n\\n\\n    ' additional_kwargs={} response_metadata={}\n",
      "content='Cuales son los switches más baratos que tiene mikrotik?' additional_kwargs={} response_metadata={}\n",
      "content='' additional_kwargs={} response_metadata={'model': 'llama3.2:latest', 'created_at': '2025-03-11T02:19:35.999266Z', 'done': True, 'done_reason': 'stop', 'total_duration': 1966785000, 'load_duration': 34469667, 'prompt_eval_count': 543, 'prompt_eval_duration': 942000000, 'eval_count': 40, 'eval_duration': 976000000, 'message': Message(role='assistant', content='', images=None, tool_calls=None)} id='run-abd3ab6f-e116-4273-a9db-2c48036067bd-0' tool_calls=[{'name': 'search_products_by_category', 'args': {'category_id': 3, 'order': 'ASC', 'order_by': 'price', 'top_n': 10}, 'id': 'ccd70a17-998c-482a-9513-518d4ee823b0', 'type': 'tool_call'}] usage_metadata={'input_tokens': 543, 'output_tokens': 40, 'total_tokens': 583}\n",
      "content='\\n        ID | Nombre | Descripción | Código | Precio\\n        521 | css610-8g-2s 2Bin | CSS610-8G-2S+IN | $119.00 \\n750 | css318-16g-2s 2Bin | CSS318-16G-2S+IN | $139.00 \\n519 | netpower lite 7r | CSS610-1Gi-7R-2S+OUT | $139.00 \\n429 | crs305-1g-4s 2Bin | CRS305-1G-4S+IN | $149.00 \\n308 | css326-24g-2s 2Brm | CSS326-24G-2S+RM | $159.00 \\n582 | crs518-16xs-2xq-rm | CRS518-16XS-2XQ-RM | $1595.00 \\n500 | netpower 15fr | CRS318-1Fi-15Fr-2S-OUT | $169.00 \\n646 | crs304-4xg-in | CRS304-4XG-IN | $199.00 \\n514 | crs326-24g-2s 2Bin | CRS326-24G-2S+INr2 | $199.00 \\n567 | crs310-1g-5s-4s 2Bin | CRS310-1G-5S-4S+IN | $199.00 \\n' tool_call_id='ccd70a17-998c-482a-9513-518d4ee823b0'\n"
     ]
    }
   ],
   "source": [
    "for message in messages:\n",
    "    print(message)"
   ]
  },
  {
   "cell_type": "code",
   "execution_count": 15,
   "metadata": {},
   "outputs": [
    {
     "data": {
      "text/plain": [
       "'Los switches más baratos que tiene Mikrotik son:\\n\\n1. **CSS610-8G-2S+IN**: Precio $119.00\\n2. **CSS318-16G-2S+IN**: Precio $139.00\\n3. **CSS610-1Gi-7R-2S+OUT**: Precio $139.00\\n\\nEstos switches son ideales para pequeñas redes y dispositivos que requieren una conexión de red estable y confiable.'"
      ]
     },
     "execution_count": 15,
     "metadata": {},
     "output_type": "execute_result"
    }
   ],
   "source": [
    "result.content"
   ]
  }
 ],
 "metadata": {
  "kernelspec": {
   "display_name": "venv",
   "language": "python",
   "name": "python3"
  },
  "language_info": {
   "codemirror_mode": {
    "name": "ipython",
    "version": 3
   },
   "file_extension": ".py",
   "mimetype": "text/x-python",
   "name": "python",
   "nbconvert_exporter": "python",
   "pygments_lexer": "ipython3",
   "version": "3.13.1"
  }
 },
 "nbformat": 4,
 "nbformat_minor": 2
}
