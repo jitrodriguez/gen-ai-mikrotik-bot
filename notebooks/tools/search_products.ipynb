{
 "cells": [
  {
   "cell_type": "code",
   "execution_count": 2,
   "metadata": {},
   "outputs": [],
   "source": [
    "from sqlalchemy import create_engine\n",
    "from sqlalchemy.orm import sessionmaker\n",
    "\n",
    "DATABASE_URL = \"sqlite:////Users/juanrodriguez/Documents/Curso IA/mikrotik-bot/app/database/database_test.db\"  # Cambia esto a tu URL de base de datos\n",
    "\n",
    "engine = create_engine(DATABASE_URL)\n",
    "SessionLocal = sessionmaker(autocommit=False, autoflush=False, bind=engine)"
   ]
  },
  {
   "cell_type": "code",
   "execution_count": 3,
   "metadata": {},
   "outputs": [],
   "source": [
    "from typing import List, Dict, Optional, Tuple\n",
    "from sqlalchemy.orm import Session\n",
    "from sqlalchemy import text\n",
    "from langchain_core.tools import tool\n",
    "from langchain_core.messages import HumanMessage, ToolMessage, SystemMessage\n",
    "\n",
    "@tool\n",
    "def search_products_by_category(category_id: int, top_n: int = 5, order_by: Optional[str] = None, order: str = 'ASC', price_range: Optional[Tuple[float, float]] = None) -> str:\n",
    "# def search_products_by_category(category_id: int, top_n: int = 5, order_by: Optional[str] = None, order: str = 'ASC', price_range: Optional[Tuple[float, float]] = None) -> List[Dict[str, str]]:\n",
    "    \"\"\"\n",
    "    Antes de  ejecutar esta función, debes tener la categoría en la base de datos, si no la tienes debes llamar a la función `get_categories` para obtener las categorías disponibles.\n",
    "    Busca productos por categoría con opciones de filtrado y ordenamiento, primero debes tener la categoría para hacer la solicitud.\n",
    "\n",
    "    Args:\n",
    "        category_id (int): ID de la categoría para buscar productos. Mandatory.\n",
    "        top_n (int, opcional): Número máximo de productos a devolver. Por defecto es 5.\n",
    "        order_by (str, opcional): Campo por el cual ordenar los resultados. Por defecto es None.\n",
    "        order (str, opcional): Orden de los resultados ('ASC' o 'DESC'). Por defecto es 'ASC'.\n",
    "        price_range (tuple, opcional): Rango de precios (min, max) para filtrar los productos. Por defecto es None.\n",
    "\n",
    "    Returns:\n",
    "        str: Tabla con los detalles de los productos.\n",
    "    \"\"\"\n",
    "    session: Session = SessionLocal()\n",
    "    try:\n",
    "        query = \"\"\"\n",
    "            SELECT p.id, p.name, p.description, p.code, p.price\n",
    "            FROM products p\n",
    "            JOIN product_category pc\n",
    "            ON p.id = pc.product_id\n",
    "            WHERE pc.category_id = :category_id\n",
    "        \"\"\"\n",
    "        params = {\"category_id\": category_id}\n",
    "        \n",
    "        if price_range:\n",
    "            query += \" AND p.price BETWEEN :min_price AND :max_price\"\n",
    "            params[\"min_price\"] = price_range[0]\n",
    "            params[\"max_price\"] = price_range[1]\n",
    "        \n",
    "        if order_by:\n",
    "            query += f\" ORDER BY {order_by} {order}\"\n",
    "        \n",
    "        query += f\" LIMIT {top_n}\"\n",
    "        \n",
    "        result = session.execute(text(query), params)\n",
    "        rows = result.fetchall()\n",
    "        products = []\n",
    "        products_str = \"\"\"\n",
    "        ID | Nombre | Descripción | Código | Precio\n",
    "        \"\"\"\n",
    "        for row in rows:\n",
    "            # make a table with the products, id, name, code and price\n",
    "            products_str += f\"{row[0]} | {row[1]} | {row[3]} | {row[4]} \\n\"\n",
    "\n",
    "        return products_str\n",
    "    finally:\n",
    "        session.close()"
   ]
  },
  {
   "cell_type": "code",
   "execution_count": 4,
   "metadata": {},
   "outputs": [],
   "source": [
    "from typing import List, Dict\n",
    "from sqlalchemy.orm import Session\n",
    "from langchain_core.tools import tool\n",
    "\n",
    "@tool\n",
    "def get_categories() -> str:\n",
    "# def get_categories() -> List[Dict[str, str]]:\n",
    "    \"\"\"\n",
    "    Obtiene todas las categorías de la base de datos.\n",
    "\n",
    "    Returns:\n",
    "        str: Tabla con los detalles de las categorías.\n",
    "    \"\"\"\n",
    "    session: Session = SessionLocal()\n",
    "    try:\n",
    "        query = \"SELECT * FROM categories\"\n",
    "        result = session.execute(query)\n",
    "        rows = result.fetchall()\n",
    "        categories = []\n",
    "        categories_str = \"\"\n",
    "        for row in rows:\n",
    "            # category = {\n",
    "            #     \"id\": row[0],\n",
    "            #     \"name\": row[1],\n",
    "            #     \"url\": row[2]\n",
    "            # }\n",
    "            # categories.append(category)\n",
    "            categories_str += f\"{row[0]} - {row[1]}\\n\"\n",
    "        return categories_str\n",
    "    except Exception as e:\n",
    "        print(e)\n",
    "    finally:\n",
    "        session.close()"
   ]
  },
  {
   "cell_type": "code",
   "execution_count": 5,
   "metadata": {},
   "outputs": [],
   "source": [
    "@tool\n",
    "def get_product_info_by_search_term(search_term: str) -> str:\n",
    "    \"\"\"\n",
    "    Busca productos por término de búsqueda.\n",
    "    \n",
    "    IMPORTANTE: Solo se busca por nombre, descripción y código de producto.\n",
    "\n",
    "    Args:\n",
    "        search_term (str): Nombre, descripción o código de producto a buscar.\n",
    "\n",
    "    Returns:\n",
    "        str: Lista de productos que coinciden con el término de búsqueda.\n",
    "    \"\"\"\n",
    "    session: Session = SessionLocal()\n",
    "    try:\n",
    "        query = \"\"\"\n",
    "            SELECT p.id, p.name, p.description, p.code, p.price\n",
    "            FROM products p\n",
    "            WHERE p.name LIKE :search_term or p.description LIKE :search_term or p.code LIKE :search_term\n",
    "        \"\"\"\n",
    "        params = {\"search_term\": f\"%{search_term}%\"}\n",
    "        result = session.execute(text(query), params)\n",
    "        rows = result.fetchall()\n",
    "        products = []\n",
    "        products_str = \"\"\"\n",
    "        ID | Nombre | Descripción | Código | Precio\n",
    "        \"\"\"\n",
    "        for row in rows:\n",
    "            # make a table with the products, id, name, code and price\n",
    "            products_str += f\"{row[0]} | {row[1]} | {row[3]} | {row[4]} \\n\"\n",
    "\n",
    "        return products_str\n",
    "    finally:\n",
    "        session.close()\n"
   ]
  },
  {
   "cell_type": "code",
   "execution_count": 6,
   "metadata": {},
   "outputs": [],
   "source": [
    "from langchain_ollama import ChatOllama\n",
    "\n",
    "llm = ChatOllama(\n",
    "    model=\"llama3.2:latest\",\n",
    "    temperature=0,\n",
    ")\n",
    "\n",
    "llm_with_tools = llm.bind_tools([search_products_by_category])"
   ]
  },
  {
   "cell_type": "code",
   "execution_count": 14,
   "metadata": {},
   "outputs": [
    {
     "name": "stdout",
     "output_type": "stream",
     "text": [
      "[{'name': 'search_products_by_category', 'args': {'category_id': 1, 'order': 'ASC', 'order_by': None, 'price_range': [0, 10000], 'top_n': 10}, 'id': 'faa51163-89eb-4461-ab1b-93aaf622a2f6', 'type': 'tool_call'}]\n"
     ]
    }
   ],
   "source": [
    "all_categories = get_categories.invoke({})\n",
    "messages = [\n",
    "    SystemMessage(f\"\"\"\n",
    "    Eres un bot especializado en productos de Mikrotik, puedes ayudar a los usuarios a encontrar productos y categorías.\n",
    "\n",
    "    estas son las categorías disponibles:\n",
    "    {all_categories}\n",
    "\n",
    "    \"\"\"),\n",
    "    HumanMessage(\"Que productos nuevos tiene mikrotik?\"),\n",
    "]\n",
    "\n",
    "ai_msg = llm_with_tools.invoke(messages)\n",
    "messages.append(ai_msg)\n",
    "print(ai_msg.tool_calls)\n",
    "for tool_call in ai_msg.tool_calls:\n",
    "    tool_name = tool_call[\"name\"].lower()\n",
    "    selected_tool = {\n",
    "        \"search_products_by_category\": search_products_by_category,\n",
    "        \"get_categories\": get_categories,\n",
    "    }[tool_name]\n",
    "    # print(\"first call\")\n",
    "    tool_output = selected_tool.invoke(tool_call[\"args\"])\n",
    "    messages.append(ToolMessage(tool_output, tool_call_id=tool_call[\"id\"]))\n",
    "\n",
    "result = llm_with_tools.invoke(messages)\n",
    "\n"
   ]
  },
  {
   "cell_type": "code",
   "execution_count": 15,
   "metadata": {},
   "outputs": [
    {
     "data": {
      "text/plain": [
       "'¡Hola! Mikrotik ha lanzado varios productos nuevos en los últimos tiempos. A continuación, te presento algunos de ellos:\\n\\n1. **RouterBOARD 401U**: Un routerboard compacto y potente para aplicaciones de pequeña a media escala.\\n2. **Switch RB3011-5HDPD**: Un switch de alta velocidad con capacidad de procesamiento de hasta 10 Gbps.\\n3. **Wireless AP RBwAP6HPd**: Una estación base inalámbrica con tecnología Wi-Fi 6 y soporte para hasta 256 usuarios.\\n4. **RouterBOARD 410U**: Un routerboard con tecnología Wi-Fi 6 y capacidad de procesamiento de hasta 10 Gbps.\\n5. **Switch RB532-5GTPD**: Un switch de alta velocidad con capacidad de procesamiento de hasta 20 Gbps.\\n\\nEstos son solo algunos ejemplos de los productos nuevos lanzados por Mikrotik. Puedes encontrar más información sobre ellos en nuestra tienda en línea o en nuestro sitio web oficial. ¿Necesitas ayuda para elegir el producto adecuado para tus necesidades?'"
      ]
     },
     "execution_count": 15,
     "metadata": {},
     "output_type": "execute_result"
    }
   ],
   "source": [
    "result.content"
   ]
  }
 ],
 "metadata": {
  "kernelspec": {
   "display_name": "venv",
   "language": "python",
   "name": "python3"
  },
  "language_info": {
   "codemirror_mode": {
    "name": "ipython",
    "version": 3
   },
   "file_extension": ".py",
   "mimetype": "text/x-python",
   "name": "python",
   "nbconvert_exporter": "python",
   "pygments_lexer": "ipython3",
   "version": "3.13.1"
  }
 },
 "nbformat": 4,
 "nbformat_minor": 2
}
