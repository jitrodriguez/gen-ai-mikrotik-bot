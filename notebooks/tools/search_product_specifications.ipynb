{
 "cells": [
  {
   "cell_type": "code",
   "execution_count": 9,
   "metadata": {},
   "outputs": [],
   "source": [
    "from sqlalchemy import create_engine\n",
    "from sqlalchemy.orm import sessionmaker\n",
    "\n",
    "DATABASE_URL = \"sqlite:///./../../app/database/database_3.db\"\n",
    "\n",
    "engine = create_engine(DATABASE_URL)\n",
    "SessionLocal = sessionmaker(autocommit=False, autoflush=False, bind=engine)"
   ]
  },
  {
   "cell_type": "code",
   "execution_count": 10,
   "metadata": {},
   "outputs": [
    {
     "name": "stdout",
     "output_type": "stream",
     "text": [
      "Column: product_id INTEGER\n",
      "Column: number_10_100_1000_ethernet_ports INTEGER\n",
      "Column: number_of_1g_ethernet_ports_with_poe_out INTEGER\n",
      "Column: number_of_1g_2_5g_5g_10g_ethernet_ports INTEGER\n",
      "Column: sfp_ports INTEGER\n",
      "Column: sfp_plus_ports INTEGER\n",
      "Column: port_to_port_isolation TEXT\n",
      "Column: operating_system TEXT\n",
      "Column: product_id INTEGER\n",
      "Column: dimensions TEXT\n",
      "Column: diameter_x_depth TEXT\n",
      "Column: weight REAL\n",
      "Column: packaged_weight REAL\n",
      "Column: material TEXT\n",
      "Column: color TEXT\n",
      "Column: outdoor_rating TEXT\n",
      "Column: ip_protection TEXT\n",
      "Column: wind_load_125_mph REAL\n",
      "Column: wind_survivability REAL\n",
      "Column: can_be_used_indoors INTEGER\n",
      "Column: can_be_used_outdoors INTEGER\n",
      "Column: product_id INTEGER\n",
      "Column: max_power_consumption REAL\n",
      "Column: max_power_consumption_without_attachments REAL\n",
      "Column: power_rating REAL\n",
      "Column: current REAL\n",
      "Column: output_power REAL\n",
      "Column: output_voltage REAL\n",
      "Column: input_voltage REAL\n",
      "Column: dc_jack_input_voltage REAL\n",
      "Column: poe_in REAL\n",
      "Column: poe_out REAL\n",
      "Column: poe_out_ports INTEGER\n",
      "Column: poe_in_input_voltage REAL\n",
      "Column: max_out_per_port_output_input_18_30_v REAL\n",
      "Column: max_out_per_port_output_input_30_57_v REAL\n",
      "Column: product_id INTEGER\n",
      "Column: cpu TEXT\n",
      "Column: cpu_core_count INTEGER\n",
      "Column: cpu_threads_count INTEGER\n",
      "Column: cpu_nominal_frequency REAL\n",
      "Column: cpu_temperature_monitor INTEGER\n",
      "Column: architecture TEXT\n",
      "Column: chipset TEXT\n",
      "Column: switch_chip_model TEXT\n",
      "Column: plc_chipset TEXT\n",
      "Column: storage_size_mb INTEGER\n",
      "Column: storage_type TEXT\n",
      "Column: size_of_ram_mb INTEGER\n",
      "Column: mtbf INTEGER\n",
      "Column: product_id INTEGER\n",
      "Column: wi_fi_generation TEXT\n",
      "Column: wireless_standards TEXT\n",
      "Column: wireless_2_4_ghz_generation TEXT\n",
      "Column: wireless_5_ghz_generation TEXT\n",
      "Column: wireless_2_4_ghz_chip_model TEXT\n",
      "Column: wireless_5_ghz_chip_model TEXT\n",
      "Column: wireless_2_4_ghz_number_of_chains INTEGER\n",
      "Column: wireless_5_ghz_number_of_chains INTEGER\n",
      "Column: wireless_2_4_ghz_max_data_rate REAL\n",
      "Column: wireless_5_ghz_max_data_rate REAL\n",
      "Column: wifi_speed REAL\n",
      "Column: dbi REAL\n",
      "Column: beamwidth REAL\n",
      "Column: cross_polarization TEXT\n",
      "Column: polarization TEXT\n",
      "Column: antenna_header_count INTEGER\n",
      "Column: allow_2ghz BOOLEAN\n",
      "Column: allow_5ghz BOOLEAN\n",
      "Column: matching TEXT\n",
      "Column: vswr TEXT\n"
     ]
    }
   ],
   "source": [
    "# get schema from sqlite db\n",
    "from sqlalchemy import inspect\n",
    "from sqlalchemy.sql import text\n",
    "\n",
    "inspector = inspect(engine)\n",
    "count = 0\n",
    "tables = {}\n",
    "for table_name in inspector.get_table_names():\n",
    "    # if table contains _specs\n",
    "    if \"_specs\" in table_name:\n",
    "        # print(\"Table: %s\" % table_name)\n",
    "        tables[table_name] = {}\n",
    "        for column in inspector.get_columns(table_name):\n",
    "            print(\"Column: %s\" % column['name'], column['type'])\n",
    "            count += 1\n",
    "            # Get unique values for the column\n",
    "            query = text(f\"SELECT DISTINCT {column['name']} FROM {table_name}\")\n",
    "            result = engine.execute(query)\n",
    "            unique_values = [row[0] for row in result]\n",
    "            # print(\"Unique values: %s\" % unique_values)\n",
    "            tables[table_name][column['name']] = unique_values\n",
    "# print(\"Total columns: %s\" % count)"
   ]
  },
  {
   "cell_type": "code",
   "execution_count": 11,
   "metadata": {},
   "outputs": [
    {
     "data": {
      "text/plain": [
       "dict_keys(['connectivity_specs', 'physical_specs', 'power_specs', 'tech_specs', 'wireless_specs'])"
      ]
     },
     "execution_count": 11,
     "metadata": {},
     "output_type": "execute_result"
    }
   ],
   "source": [
    "tables.keys()"
   ]
  },
  {
   "cell_type": "code",
   "execution_count": 12,
   "metadata": {},
   "outputs": [
    {
     "name": "stdout",
     "output_type": "stream",
     "text": [
      "max_power_consumption\n",
      "[2.0, 11.0, 5.0, 1.0, 12.0, 6.0, 24.0, 13.5, 4.6, 53.0, 19.0, 17.0, 4.0, 3.0, 50.0, 3.5, 10.0, 51.0, 20.0, 23.0, 7.0, 54.0, 14.0, 66.0, 33.0, 27.0, 44.0, 8.0, 21.0, 160.0, 494.0, 9.0, 43.0, 16.0, 69.0, 18.0, 60.0, 800.0, 29.0, 316.0, 30.0, 1.5, 48.0, 25.0, 83.0, 128.0, 13.0, 41.0, 36.0, 150.0, 162.0, 95.0, 38.0, 4.5, 45.0, 47.0, 40.0, 34.0, 22.0, 31.0, 15.0, 100.0, 70.0, 600.0, 55.0, 115.0, 1.3, 286.0]\n",
      "\n",
      "max_power_consumption_without_attachments\n",
      "[7.0, 5.0, 2.0, 3.0, 8.0, 17.0, 6.0, 18.0, 25.0, 27.0, 12.0, 16.0, 10.0, 44.0, 4.0, 23.0, 42.0, 85.0, 50.0, 31.0, 35.0, 14.0, 11.0, 60.0, 80.0, 22.0, 30.0, 14.3, 45.0, 15.0, 13.0, 21.0, 20.0, 51.0, 9.0, 123.0, 36.0, 105.0]\n",
      "\n",
      "power_rating\n",
      "['100W']\n",
      "\n",
      "current\n",
      "['1.46A', '2A']\n",
      "\n",
      "output_power\n",
      "['up to 27dBm', '27dBm', '400mW']\n",
      "\n",
      "output_voltage\n",
      "['24V 0.8A', '24V 2.5A', '48V', 'Same as input', '24 V 1 A', '12V, 7A', 'Yes, Passive PoE up to 57 V', '24V 1.2A', '12 V - 5 A (total DC output: 60W)', '53Vdc 8.8A and 26.5Vdc 17.6A', '53Vdc 13.5A and 26.5Vdc 27A']\n",
      "\n",
      "input_voltage\n",
      "['110/220V 0.7A', '100/240V 1.6A', '110/220V', '10 - 28 V', '18-57 V', '42-57V (Passive, Telecom, 802.3af and 802.3at PoE plus supported)', '12-57V', '±48V, 3A', '12 - 57 V, Passive or 802.3af/at', '100-240 V 1.5 A MAX', '90-264Vac']\n",
      "\n",
      "dc_jack_input_voltage\n",
      "['6-30 V', '11-30 V', '8-28 V', '8-30 V', '8-57 V', '10-28 V', '11-57 V', '12-28 V', '12-57 V', '10-30 V', '9-30 V', '11-28 V', '12-30 V', '18-28 V / 48-57 V', '10-57 V', '18-57 V', '18-30 V / 48-57 V', '24-57 V', '36-57 V', '48-57 V', '24-56 V', '12-57 V / 12-57 V', '9-28 V']\n",
      "\n",
      "poe_in\n",
      "['Passive PoE', '802.3af/at', '802.3 bt', '802.3af/at (ether1), Mode B (ether2-ether8)']\n",
      "\n",
      "poe_out\n",
      "['Passive PoE', '802.3af/at', 'Passive PoE up to 57V', '802.3af/at/bt']\n",
      "\n",
      "poe_out_ports\n",
      "['Ether5', 'Ether2-Ether5', 'Ether2', 'Ether1-Ether8', 'Ether1-Ether24', 'Ether10', 'Ether1-Ether48', 'Ether15', 'Ether1-Ether16', 'Ether8', 'Ether 1', 'Ether1-Ether8 (af/at), Ether9-Ether16 (bt)', 'Ether2-Ether4']\n",
      "\n",
      "poe_in_input_voltage\n",
      "['6-30 V', '11-30 V', '8-28 V', '8-30 V', '9-30 V', '12-57 V', '11-57 V', '10-28 V', '10-60 V', '10-30 V', '20-57 V', '24-57 V', '11-28 V', '17-57 V', '18-28 V', '18-57 V', '18-57 V (recommended 36-57V)', '18-48 V', '43-57 V', '42-57 V', '42.5-57 V', '24-56 V', '12-30 V', '36-57 V', '12-28 V', '48-57 V', '9-28 V']\n",
      "\n",
      "max_out_per_port_output_input_18_30_v\n",
      "[]\n",
      "\n",
      "max_out_per_port_output_input_30_57_v\n",
      "[]\n",
      "\n"
     ]
    }
   ],
   "source": [
    "for column in tables[\"power_specs\"].keys():\n",
    "    if column == \"product_id\":\n",
    "        continue\n",
    "    values = tables[\"power_specs\"][column]\n",
    "    # delete None values\n",
    "    values = [x for x in values if x is not None]\n",
    "    print(column)\n",
    "    print(values)\n",
    "    print()"
   ]
  },
  {
   "cell_type": "code",
   "execution_count": 13,
   "metadata": {},
   "outputs": [
    {
     "name": "stdout",
     "output_type": "stream",
     "text": [
      "Column: number_10_100_1000_ethernet_ports\n",
      "Unique values: [2, 5, 1, 24, 13, 3, 8, 10, 48, 16, 7, 4, 17]\n",
      "Column: number_of_1g_ethernet_ports_with_poe_out\n",
      "Unique values: [8, 1, 16, 3]\n",
      "Column: number_of_1g_2_5g_5g_10g_ethernet_ports\n",
      "Unique values: [8, 1, 2, 4]\n",
      "Column: sfp_ports\n",
      "Unique values: [1, 5, 4, 20, 2]\n",
      "Column: sfp_plus_ports\n",
      "Unique values: [2, 16, 4, 1, 24, 8, 12]\n",
      "Column: port_to_port_isolation\n",
      "Unique values: ['>40dB min', '>40 dB min']\n",
      "Column: operating_system\n",
      "Unique values: ['RouterOS', 'RouterOS v5 and above', 'MikroTik SwOS', 'RouterOS v7', 'SwOS', 'RouterOS / SwitchOS', 'RouterOS v7 / SwitchOS', 'SwitchOS Lite', 'RouterOS v7 / SwOS', 'RouterOS v7 (Special ROSE edition)']\n",
      "Column Name | Unique Values\n",
      "--------------------------\n",
      "number_10_100_1000_ethernet_ports | 2, 5, 1, 24, 13, 3, 8, 10, 48, 16, 7, 4, 17\n",
      "number_of_1g_ethernet_ports_with_poe_out | 8, 1, 16, 3\n",
      "number_of_1g_2_5g_5g_10g_ethernet_ports | 8, 1, 2, 4\n",
      "sfp_ports | 1, 5, 4, 20, 2\n",
      "sfp_plus_ports | 2, 16, 4, 1, 24, 8, 12\n",
      "port_to_port_isolation | >40dB min, >40 dB min\n",
      "operating_system | RouterOS, RouterOS v5 and above, MikroTik SwOS, RouterOS v7, SwOS, RouterOS / SwitchOS, RouterOS v7 / SwitchOS, SwitchOS Lite, RouterOS v7 / SwOS, RouterOS v7 (Special ROSE edition)\n",
      "\n"
     ]
    }
   ],
   "source": [
    "connectivity_specs_table = \"connectivity_specs\"\n",
    "connectivity_specs_unique_values = {}\n",
    "for column in inspector.get_columns(connectivity_specs_table):\n",
    "    if column['name'] == \"product_id\":\n",
    "        continue\n",
    "    print(\"Column: %s\" % column['name'])\n",
    "    query = text(f\"SELECT DISTINCT {column['name']} FROM {connectivity_specs_table}\")\n",
    "    result = engine.execute(query)\n",
    "    unique_values = [row[0] for row in result if row[0] is not None]\n",
    "    if len(unique_values) == 0:\n",
    "        continue\n",
    "    connectivity_specs_unique_values[column['name']] = unique_values\n",
    "    print(\"Unique values: %s\" % unique_values)\n",
    "connectivity_specs_unique_values_str = 'Column Name | Unique Values\\n'\n",
    "connectivity_specs_unique_values_str += '--------------------------\\n'\n",
    "for column, values in connectivity_specs_unique_values.items():\n",
    "    str_values = ', '.join(map(str, values))\n",
    "    connectivity_specs_unique_values_str += f\"{column} | {str_values}\\n\"\n",
    "print(connectivity_specs_unique_values_str)"
   ]
  },
  {
   "cell_type": "code",
   "execution_count": null,
   "metadata": {},
   "outputs": [
    {
     "name": "stdout",
     "output_type": "stream",
     "text": [
      "Column Name | Unique Values | Type\n",
      "--------------------------\n",
      "max_power_consumption | 2.0, 11.0, 5.0, 1.0, 12.0, 6.0, 24.0, 13.5, 4.6, 53.0, 19.0, 17.0, 4.0, 3.0, 50.0, 3.5, 10.0, 51.0, 20.0, 23.0, 7.0, 54.0, 14.0, 66.0, 33.0, 27.0, 44.0, 8.0, 21.0, 160.0, 494.0, 9.0, 43.0, 16.0, 69.0, 18.0, 60.0, 800.0, 29.0, 316.0, 30.0, 1.5, 48.0, 25.0, 83.0, 128.0, 13.0, 41.0, 36.0, 150.0, 162.0, 95.0, 38.0, 4.5, 45.0, 47.0, 40.0, 34.0, 22.0, 31.0, 15.0, 100.0, 70.0, 600.0, 55.0, 115.0, 1.3, 286.0 | REAL\n",
      "max_power_consumption_without_attachments | 7.0, 5.0, 2.0, 3.0, 8.0, 17.0, 6.0, 18.0, 25.0, 27.0, 12.0, 16.0, 10.0, 44.0, 4.0, 23.0, 42.0, 85.0, 50.0, 31.0, 35.0, 14.0, 11.0, 60.0, 80.0, 22.0, 30.0, 14.3, 45.0, 15.0, 13.0, 21.0, 20.0, 51.0, 9.0, 123.0, 36.0, 105.0 | REAL\n",
      "power_rating | 100W | REAL\n",
      "current | 1.46A, 2A | REAL\n",
      "output_power | up to 27dBm, 27dBm, 400mW | REAL\n",
      "output_voltage | 24V 0.8A, 24V 2.5A, 48V, Same as input, 24 V 1 A, 12V, 7A, Yes, Passive PoE up to 57 V, 24V 1.2A, 12 V - 5 A (total DC output: 60W), 53Vdc 8.8A and 26.5Vdc 17.6A, 53Vdc 13.5A and 26.5Vdc 27A | REAL\n",
      "input_voltage | 110/220V 0.7A, 100/240V 1.6A, 110/220V, 10 - 28 V, 18-57 V, 42-57V (Passive, Telecom, 802.3af and 802.3at PoE plus supported), 12-57V, ±48V, 3A, 12 - 57 V, Passive or 802.3af/at, 100-240 V 1.5 A MAX, 90-264Vac | REAL\n",
      "dc_jack_input_voltage | 6-30 V, 11-30 V, 8-28 V, 8-30 V, 8-57 V, 10-28 V, 11-57 V, 12-28 V, 12-57 V, 10-30 V, 9-30 V, 11-28 V, 12-30 V, 18-28 V / 48-57 V, 10-57 V, 18-57 V, 18-30 V / 48-57 V, 24-57 V, 36-57 V, 48-57 V, 24-56 V, 12-57 V / 12-57 V, 9-28 V | REAL\n",
      "poe_in | Passive PoE, 802.3af/at, 802.3 bt, 802.3af/at (ether1), Mode B (ether2-ether8) | REAL\n",
      "poe_out | Passive PoE, 802.3af/at, Passive PoE up to 57V, 802.3af/at/bt | REAL\n",
      "poe_out_ports | Ether5, Ether2-Ether5, Ether2, Ether1-Ether8, Ether1-Ether24, Ether10, Ether1-Ether48, Ether15, Ether1-Ether16, Ether8, Ether 1, Ether1-Ether8 (af/at), Ether9-Ether16 (bt), Ether2-Ether4 | INTEGER\n",
      "poe_in_input_voltage | 6-30 V, 11-30 V, 8-28 V, 8-30 V, 9-30 V, 12-57 V, 11-57 V, 10-28 V, 10-60 V, 10-30 V, 20-57 V, 24-57 V, 11-28 V, 17-57 V, 18-28 V, 18-57 V, 18-57 V (recommended 36-57V), 18-48 V, 43-57 V, 42-57 V, 42.5-57 V, 24-56 V, 12-30 V, 36-57 V, 12-28 V, 48-57 V, 9-28 V | REAL\n",
      "\n"
     ]
    }
   ],
   "source": [
    "from sqlalchemy import create_engine, inspect, text\n",
    "\n",
    "def get_unique_values(table_name):\n",
    "\n",
    "    unique_values_dict = {}\n",
    "    for column in inspector.get_columns(table_name):\n",
    "        if column['name'] == \"product_id\":\n",
    "            continue\n",
    "        query = text(f\"SELECT DISTINCT {column['name']} FROM {table_name}\")\n",
    "        result = engine.execute(query)\n",
    "        unique_values = [row[0] for row in result if row[0] is not None]\n",
    "        if len(unique_values) == 0:\n",
    "            continue\n",
    "        unique_values_dict[column['name']] = {\n",
    "            'values': unique_values,\n",
    "            'type': column['type']\n",
    "        }\n",
    "\n",
    "    unique_values_str = 'Column Name | Unique Values | Type\\n'\n",
    "    unique_values_str += '--------------------------\\n'\n",
    "    for column, data in unique_values_dict.items():\n",
    "        values = data['values']\n",
    "        column_type = data['type']\n",
    "        str_values = ', '.join(map(str, values))\n",
    "        unique_values_str += f\"{column} | {str_values} | {column_type}\\n\"\n",
    "    \n",
    "    return unique_values_dict, unique_values_str\n",
    "\n",
    "# table_name = \"connectivity_specs\"\n",
    "# connectivity_specs_unique_values, connectivity_specs_unique_values_str = get_unique_values(table_name)\n",
    "# print(connectivity_specs_unique_values_str)\n",
    "table_name = \"power_specs\"\n",
    "power_specs_unique_values, power_specs_unique_values_str = get_unique_values(table_name)\n",
    "print(power_specs_unique_values_str)"
   ]
  },
  {
   "cell_type": "code",
   "execution_count": null,
   "metadata": {},
   "outputs": [],
   "source": [
    "from typing import List, Dict, Optional, Tuple, TypedDict, Literal\n",
    "from sqlalchemy.orm import Session\n",
    "from sqlalchemy import text\n",
    "from langchain_core.tools import tool\n",
    "from langchain_core.messages import HumanMessage, ToolMessage, SystemMessage\n",
    "from langchain_ollama import ChatOllama\n",
    "from typing import Annotated\n",
    "from pydantic import Field\n",
    "\n",
    "llm = ChatOllama(\n",
    "    model='llama3.2:latest'\n",
    ")\n",
    "\n",
    "comparison_expressions = Literal[\"=\", \"==\", \"<\", \"<=\", \">\", \">=\", \"!=\", \"\", \"IN\", \"NOT IN\", \"BETWEEN\", \"IS\", \"IS NOT\",\"like\"]\n",
    "\n",
    "class Condition(TypedDict):\n",
    "    column: Literal[*connectivity_specs_unique_values.keys()]\n",
    "    comparison_expression: Literal[comparison_expressions]= Field(description=\"Comparator operator (> | like | < | )\")\n",
    "    value: str= Field(description=\"Value to compare with ( eg. 2 | %RouterOS% ... )\")\n",
    "class Conditions(TypedDict):\n",
    "    conditions: List[Condition]\n",
    "\n",
    "desc = f\"\"\"\n",
    "    This tool searches products only by connectivity specs. You have\n",
    "    to provide the possible value according unique values.\n",
    "    Available connectivity specs are:\n",
    "    {connectivity_specs_unique_values_str}\n",
    "\n",
    "    Examples:\n",
    "        * search_products_by_connectivity_specs(\"number_10_100_1000_ethernet_ports less than 2\")\n",
    "        * search_products_by_connectivity_specs(\"operating_system RouterOS Rose Edition\")\n",
    "    \"\"\"\n",
    "@tool(description=desc)\n",
    "def search_products_by_connectivity_specs(summarized_question: str) -> str:\n",
    "    try:\n",
    "        # TODO: Convertir esto en variable\n",
    "        query = \"\"\"\n",
    "            SELECT p.id, p.name, p.price, p.description, cp.number_10_100_1000_ethernet_ports,cp.number_of_1g_ethernet_ports_with_poe_out,\n",
    "            cp.number_of_1g_2_5g_5g_10g_ethernet_ports, cp.sfp_ports, cp.sfp_plus_ports, cp.port_to_port_isolation, cp.operating_system\n",
    "            FROM products p\n",
    "            JOIN connectivity_specs cp\n",
    "            ON p.id = cp.product_id\n",
    "            WHERE {generated_query}\n",
    "        \"\"\"\n",
    "\n",
    "        SYSTEM_MESSAGE = (\n",
    "            \"You have to generate the query to search products by connectivity specs.\"\n",
    "            \"You have to provide the possible value according unique values.\"\n",
    "            \"Available connectivity specs are:\"\n",
    "            f\"{connectivity_specs_unique_values_str}\"\n",
    "            \"The base query is:\"\n",
    "            f\"{query}\"\n",
    "            \"Good Examples:\"\n",
    "            \"summarized question: number_10_100_1000_ethernet_ports less than 2\"\n",
    "            \"generated output: {'conditions': [{'column': 'number_10_100_1000_ethernet_ports', 'comparison_expression': '<', 'value': '2'}]}\"\n",
    "            \"summarized question: operating_system routeroS Rose Edition\"\n",
    "            \"generated query: {'conditions': [{'column': 'operating_system', 'comparison_expression': 'like', 'value': '%RouterOS%'},{ 'column': 'operating_system', 'comparison_expression': 'like', 'value': '%Rose%'}]}\"\n",
    "            \"summary question: number_10_100_1000_ethernet_ports between 2 and 4\"\n",
    "            \"generated query: {'conditions': [{'column': 'number_10_100_1000_ethernet_ports', 'comparison_expression': 'BETWEEN', 'value': '2 AND 4'}]}\" \\\n",
    "            \"Always put like and between at the end\"\n",
    "            \"\\nIf no column related to the connectivity specs is provided, the query will be generated with the provided values.\"\n",
    "        )\n",
    "\n",
    "        result = llm.with_structured_output(Conditions,method= 'json_schema').invoke([\n",
    "            SystemMessage(SYSTEM_MESSAGE),\n",
    "            HumanMessage(summarized_question)\n",
    "        ])\n",
    "        generated_query = ''\n",
    "        main_operator = ''\n",
    "        conditions_str = []\n",
    "        for condition in result['conditions']:\n",
    "            column = condition['column']\n",
    "            comparison_expression = condition['comparison_expression']\n",
    "            value = condition['value']\n",
    "            is_string = True\n",
    "            try:\n",
    "                float(value)\n",
    "                is_string = False\n",
    "            except:\n",
    "                pass\n",
    "            if is_string:\n",
    "                value = f\"'{value}'\"\n",
    "            main_operator = ' AND ' if comparison_expression != 'like' else ' OR '\n",
    "            conditions_str.append(f\"{column} {comparison_expression} {value} {main_operator}\")\n",
    "        if len(conditions_str) > 0:\n",
    "            # remove last operator\n",
    "            conditions_str[-1] = conditions_str[-1][:-len(main_operator)]\n",
    "            generated_query = ''.join(conditions_str)\n",
    "        else:\n",
    "            generated_query = '1=0'\n",
    "        final_query = query.format(generated_query=generated_query)\n",
    "        print(conditions_str)\n",
    "        result = session.execute(final_query)\n",
    "        result = result.fetchall()\n",
    "\n",
    "        head = 'ID | Name | Price | Description | number_10_100_1000_ethernet_ports | number_of_1g_ethernet_ports_with_poe_out | number_of_1g_2_5g_5g_10g_ethernet_ports | sfp_ports | sfp_plus_ports | port_to_port_isolation | operating_system\\n'\n",
    "        final_result = ''\n",
    "        for row in result:\n",
    "            row_str = ' | '.join(map(str, row)) + '\\n'\n",
    "            final_result += row_str\n",
    "        if final_result == '':\n",
    "            final_result = 'No products found.'\n",
    "        return head+final_result\n",
    "\n",
    "    finally:\n",
    "        session.close()"
   ]
  },
  {
   "cell_type": "code",
   "execution_count": null,
   "metadata": {},
   "outputs": [
    {
     "name": "stdout",
     "output_type": "stream",
     "text": [
      "[\"operating_system like '%RouterOS% Rose Edition'  OR \", \"number_10_100_1000_ethernet_ports BETWEEN '2 AND 4'  AND \", 'sfp_ports = 1 ']\n"
     ]
    }
   ],
   "source": [
    "result = search_products_by_connectivity_specs.invoke({\"summarized_question\": \"operative_system router os or rose edition and number_10_100_1000_ethernet_ports more than 2 and sfp ports \"}).split('\\n')"
   ]
  },
  {
   "cell_type": "code",
   "execution_count": 141,
   "metadata": {},
   "outputs": [
    {
     "data": {
      "text/plain": [
       "2"
      ]
     },
     "execution_count": 141,
     "metadata": {},
     "output_type": "execute_result"
    }
   ],
   "source": [
    "len(result)"
   ]
  },
  {
   "cell_type": "code",
   "execution_count": 142,
   "metadata": {},
   "outputs": [
    {
     "name": "stdout",
     "output_type": "stream",
     "text": [
      "[{'name': 'search_products_by_connectivity_specs', 'args': {'summarized_question': 'number_10_100_1000_ethernet_ports less than 2'}, 'id': '5e6b0bd8-1307-47b6-9f2d-6284ff08c6e9', 'type': 'tool_call'}]\n",
      "['number_10_100_1000_ethernet_ports < 2 ']\n"
     ]
    }
   ],
   "source": [
    "input_example = \"quiero buscar productos con menos de 2 puertos ethernet\"\n",
    "llm_with_tools = llm.bind_tools([search_products_by_connectivity_specs])\n",
    "messages = [HumanMessage(input_example)]\n",
    "ai_msg = llm_with_tools.invoke(messages)\n",
    "messages.append(ai_msg)\n",
    "print(ai_msg.tool_calls)\n",
    "for tool_call in ai_msg.tool_calls:\n",
    "    tool_name = tool_call[\"name\"].lower()\n",
    "    selected_tool = {\n",
    "        \"search_products_by_connectivity_specs\": search_products_by_connectivity_specs,\n",
    "    }[tool_name]\n",
    "    tool_output = selected_tool.invoke(tool_call[\"args\"])\n",
    "    messages.append(ToolMessage(tool_output, tool_call_id=tool_call[\"id\"]))\n",
    "\n",
    "result = llm_with_tools.invoke(messages)"
   ]
  },
  {
   "cell_type": "code",
   "execution_count": 144,
   "metadata": {},
   "outputs": [
    {
     "data": {
      "text/plain": [
       "ToolMessage(content='ID | Name | Price | Description | number_10_100_1000_ethernet_ports | number_of_1g_ethernet_ports_with_poe_out | number_of_1g_2_5g_5g_10g_ethernet_ports | sfp_ports | sfp_plus_ports | port_to_port_isolation | operating_system\\n246 | rbftc11 | $39.00 | Fiber to Copper converter, Outdoor case, 12-57V PoE with 802.3af/at support | 1 | None | None | 1 | None | None | None\\n625 | ftc11xg | $139.00 | A weatherproof IP55 Fiber-to-Copper converter to transform your 10 Gigabit SFP+ fiber connections into RJ45 10 Gigabit Ethernet. It runs a full version of SwOS Lite and has its own switch-chip! | 1 | None | 1 | None | 1 | None | None\\n', tool_call_id='5e6b0bd8-1307-47b6-9f2d-6284ff08c6e9')"
      ]
     },
     "execution_count": 144,
     "metadata": {},
     "output_type": "execute_result"
    }
   ],
   "source": [
    "messages[-1]"
   ]
  },
  {
   "cell_type": "code",
   "execution_count": null,
   "metadata": {},
   "outputs": [],
   "source": []
  }
 ],
 "metadata": {
  "kernelspec": {
   "display_name": "venv",
   "language": "python",
   "name": "python3"
  },
  "language_info": {
   "codemirror_mode": {
    "name": "ipython",
    "version": 3
   },
   "file_extension": ".py",
   "mimetype": "text/x-python",
   "name": "python",
   "nbconvert_exporter": "python",
   "pygments_lexer": "ipython3",
   "version": "3.13.1"
  }
 },
 "nbformat": 4,
 "nbformat_minor": 2
}
